{
  "nbformat": 4,
  "nbformat_minor": 0,
  "metadata": {
    "colab": {
      "name": "K-fold_crossval.ipynb",
      "provenance": [],
      "authorship_tag": "ABX9TyNCfyaF+/Su6AGgmb7vUx/9",
      "include_colab_link": true
    },
    "kernelspec": {
      "name": "python3",
      "display_name": "Python 3"
    }
  },
  "cells": [
    {
      "cell_type": "markdown",
      "metadata": {
        "id": "view-in-github",
        "colab_type": "text"
      },
      "source": [
        "<a href=\"https://colab.research.google.com/github/Foxy1987/neuroGLM/blob/master/K_fold_crossval.ipynb\" target=\"_parent\"><img src=\"https://colab.research.google.com/assets/colab-badge.svg\" alt=\"Open In Colab\"/></a>"
      ]
    },
    {
      "cell_type": "markdown",
      "metadata": {
        "id": "yG016W6NSlZj",
        "colab_type": "text"
      },
      "source": [
        "# Deep Learning: Tuning 1D convolutional neural networks using Grid search k-fold cross-validation\n",
        "__Content creator:__ David Fox"
      ]
    },
    {
      "cell_type": "markdown",
      "metadata": {
        "id": "pB2R84YYSnyv",
        "colab_type": "text"
      },
      "source": [
        "In this example, we use a grid search to evaluate different configurations for our neural network model and report on the combination that provides the best-estimated performance\n",
        "\n",
        "The cnn.create_model_load_model() function is defined to take multiple arguments that can be optimized, all of which must have default values. This will allow us to evaluate the effect of using different optimization algorithms and weight initialization schemes for our network.\n",
        "\n",
        "The model with default arguments is shown below:\n",
        "\n",
        "```\n",
        "def load_model(input_shape=[850, 1], trained=False, weight_path='', neurons=16, weight_constraint=1, dropout_rate=0.0,\n",
        "\t\t\t   kernel_size=849):\n",
        "\tinputs = Input(shape=input_shape)\n",
        "\tx = Conv1D(neurons, kernel_size=kernel_size, activation='relu',\n",
        "\t\t\t   name='conv1')(inputs)\n",
        "\tx = MaxPooling1D(name='pool')(x)\n",
        "\tx = Dropout(dropout_rate)(x)\n",
        "\tx = Flatten(name='flatten')(x)\n",
        "\tx = Dense(256, activation='relu', name='fc1')(x)\n",
        "\tx = Dense(1, name='fc2')(x)\n",
        "\tpredictions = Activation('linear')(x)\n",
        "\t# predictions = Activation('sigmoid')(x)\n",
        "\tmodel = Model(outputs=predictions, inputs=inputs)\n",
        "\n",
        "\t#opt = SGD(lr=0.1, momentum=0.9)\n",
        "\t#model.compile(loss='mean_squared_error', optimizer=opt, metrics=[r_square, 'mse'])\n",
        "\n",
        "\tif trained:\n",
        "\t\tmodel.load_weights(weight_path)\n",
        "\n",
        "\tmodel.compile(optimizer='adam', loss='mse', metrics=[r_square, 'mse'])\n",
        "\treturn model\n",
        "```\n",
        "\n",
        "\n"
      ]
    },
    {
      "cell_type": "code",
      "metadata": {
        "id": "vT0tGUgyT-8J",
        "colab_type": "code",
        "colab": {
          "base_uri": "https://localhost:8080/",
          "height": 156
        },
        "outputId": "6a00b5d3-1008-4817-a03d-2c17c5f5a0c2"
      },
      "source": [
        "#@title Clone the github repository \n",
        "!git clone https://github.com/Foxy1987/neuroGLM\n",
        "%cd neuroGLM\n"
      ],
      "execution_count": 2,
      "outputs": [
        {
          "output_type": "stream",
          "text": [
            "Cloning into 'neuroGLM'...\n",
            "remote: Enumerating objects: 315, done.\u001b[K\n",
            "remote: Counting objects: 100% (315/315), done.\u001b[K\n",
            "remote: Compressing objects: 100% (235/235), done.\u001b[K\n",
            "remote: Total 315 (delta 171), reused 176 (delta 77), pack-reused 0\u001b[K\n",
            "Receiving objects: 100% (315/315), 4.77 MiB | 10.46 MiB/s, done.\n",
            "Resolving deltas: 100% (171/171), done.\n",
            "/content/neuroGLM\n"
          ],
          "name": "stdout"
        }
      ]
    },
    {
      "cell_type": "code",
      "metadata": {
        "id": "VMP1qXNrUA-t",
        "colab_type": "code",
        "colab": {}
      },
      "source": [
        "#@title add package to google colab\n",
        "import sys, os\n",
        "sys.path.append(os.getcwd())"
      ],
      "execution_count": 3,
      "outputs": []
    },
    {
      "cell_type": "code",
      "metadata": {
        "id": "txUNxxLOUDzB",
        "colab_type": "code",
        "colab": {}
      },
      "source": [
        "#@title import modules\n",
        "import utils.read as io\n",
        "import numpy as np\n",
        "import os\n",
        "from cnn.preprocessing import preprocess\n",
        "from cnn.create_model import load_model\n",
        "from keras.wrappers.scikit_learn import KerasRegressor\n",
        "from sklearn.model_selection import GridSearchCV\n",
        "from sklearn.model_selection import TimeSeriesSplit\n"
      ],
      "execution_count": 4,
      "outputs": []
    },
    {
      "cell_type": "markdown",
      "metadata": {
        "id": "M80xuCmzUqB8",
        "colab_type": "text"
      },
      "source": [
        "# Load the data"
      ]
    },
    {
      "cell_type": "code",
      "metadata": {
        "id": "9Bs3DFnUUupT",
        "colab_type": "code",
        "colab": {}
      },
      "source": [
        "input_shape = [850, 1]\n",
        "behaviors = [\"angvturns\", \"vmoves\", \"vymoves\"]\n",
        "behavior_par = behaviors[2]\n",
        "\n",
        "\t# load the data from MATLAB .mat file\n",
        "stim, response = io.load_behavior('datasets/behavior/control_behavior.mat', 30., 55., behavior_par, 50)\n",
        "response = response.mean(axis=1)  # work on the fly-average\n",
        "stim = stim[:, 0]\n",
        "\n",
        "# preprocess for the CNN to work. This is a VERY important step!\n",
        "stim_train, stim_test, resp_train, resp_test = preprocess(stim, response, input_shape)\n",
        "\n"
      ],
      "execution_count": 7,
      "outputs": []
    },
    {
      "cell_type": "markdown",
      "metadata": {
        "id": "83gKahCiWP8p",
        "colab_type": "text"
      },
      "source": [
        "# searching for optimal network parameters\n",
        " KerasRegressor is a wrapper for using the Scikit-Learn API with Keras models.\n",
        "We pass the function our model along with parameters we wish to optimize. These are automatically bundled up and passed on to the fit() function which is called internally by the KerasRegressor class.\n",
        "\n",
        "After creating our model, we define arrays of values for the parameter we wish to search\n",
        "\n",
        "In this example, we use the scikit-learn TimeSeriesSplit to perform 5-fold time series cross-validation. https://scikit-learn.org/stable/modules/generated/sklearn.model_selection.TimeSeriesSplit.html\n",
        "\n"
      ]
    },
    {
      "cell_type": "code",
      "metadata": {
        "id": "x9oPa5B-XF5z",
        "colab_type": "code",
        "colab": {}
      },
      "source": [
        "\tmodel = KerasRegressor(build_fn=load_model, epochs=100, batch_size=64, verbose=1)\n",
        "\n",
        "\t# define the grid search parameters\n",
        "\tweight_constraint = [1, 2, 3, 4, 5]\n",
        "\tdropout_rate = [0, .1, .2, .3, .4, .5]\n",
        "\tneurons = [16, 32, 64]\n",
        "\tkernel_size = [749, 849]\n"
      ],
      "execution_count": 8,
      "outputs": []
    },
    {
      "cell_type": "markdown",
      "metadata": {
        "id": "Jb3Kmf3IXfDW",
        "colab_type": "text"
      },
      "source": [
        "# Grid search CV\n",
        "The options are specified into a dictionary and passed to the configuration of the GridSearchCV scikit-learn class. This class will evaluate a version of our neural network model for each combination of parameters. Each combination is then evaluated using 5-fold TimeSeriesSplit cross validation."
      ]
    },
    {
      "cell_type": "code",
      "metadata": {
        "id": "suOfjVZGX1jD",
        "colab_type": "code",
        "colab": {}
      },
      "source": [
        "param_grid = dict(dropout_rate=dropout_rate, neurons=neurons)\n",
        "#param_grid = dict(kernel_size=kernel_size)\n",
        "# for a single time series we want to test our model on time points in the future\n",
        "# https: // scikit - learn.org / stable / modules / cross_validation.html\n",
        "tscv = TimeSeriesSplit(n_splits=5)"
      ],
      "execution_count": 9,
      "outputs": []
    },
    {
      "cell_type": "markdown",
      "metadata": {
        "id": "jykqHxNCYOK3",
        "colab_type": "text"
      },
      "source": [
        "# performing the parameter search\n"
      ]
    },
    {
      "cell_type": "code",
      "metadata": {
        "id": "U_kWAm_tYWJF",
        "colab_type": "code",
        "colab": {
          "base_uri": "https://localhost:8080/",
          "height": 1000
        },
        "outputId": "2db469bf-4dd7-4405-f2fd-e01e43987e24"
      },
      "source": [
        "grid = GridSearchCV(estimator=model, param_grid=param_grid, n_jobs=-1, cv=tscv, scoring='neg_mean_squared_error')\n",
        "\n",
        "grid_result = grid.fit(stim_train, resp_train)"
      ],
      "execution_count": 10,
      "outputs": [
        {
          "output_type": "stream",
          "text": [
            "Epoch 1/100\n",
            "18/18 [==============================] - 0s 3ms/step - loss: 0.0911 - r_square: -0.6809 - mse: 0.0911\n",
            "Epoch 2/100\n",
            "18/18 [==============================] - 0s 3ms/step - loss: 0.0172 - r_square: 0.6793 - mse: 0.0172\n",
            "Epoch 3/100\n",
            "18/18 [==============================] - 0s 3ms/step - loss: 0.0087 - r_square: 0.8389 - mse: 0.0087\n",
            "Epoch 4/100\n",
            "18/18 [==============================] - 0s 3ms/step - loss: 0.0065 - r_square: 0.8765 - mse: 0.0065\n",
            "Epoch 5/100\n",
            "18/18 [==============================] - 0s 3ms/step - loss: 0.0057 - r_square: 0.8928 - mse: 0.0057\n",
            "Epoch 6/100\n",
            "18/18 [==============================] - 0s 3ms/step - loss: 0.0047 - r_square: 0.9106 - mse: 0.0047\n",
            "Epoch 7/100\n",
            "18/18 [==============================] - 0s 3ms/step - loss: 0.0037 - r_square: 0.9299 - mse: 0.0037\n",
            "Epoch 8/100\n",
            "18/18 [==============================] - 0s 3ms/step - loss: 0.0033 - r_square: 0.9373 - mse: 0.0033\n",
            "Epoch 9/100\n",
            "18/18 [==============================] - 0s 3ms/step - loss: 0.0032 - r_square: 0.9391 - mse: 0.0032\n",
            "Epoch 10/100\n",
            "18/18 [==============================] - 0s 3ms/step - loss: 0.0032 - r_square: 0.9399 - mse: 0.0032\n",
            "Epoch 11/100\n",
            "18/18 [==============================] - 0s 3ms/step - loss: 0.0030 - r_square: 0.9421 - mse: 0.0030\n",
            "Epoch 12/100\n",
            "18/18 [==============================] - 0s 3ms/step - loss: 0.0031 - r_square: 0.9427 - mse: 0.0031\n",
            "Epoch 13/100\n",
            "18/18 [==============================] - 0s 4ms/step - loss: 0.0030 - r_square: 0.9432 - mse: 0.0030\n",
            "Epoch 14/100\n",
            "18/18 [==============================] - 0s 3ms/step - loss: 0.0032 - r_square: 0.9398 - mse: 0.0032\n",
            "Epoch 15/100\n",
            "18/18 [==============================] - 0s 3ms/step - loss: 0.0030 - r_square: 0.9444 - mse: 0.0030\n",
            "Epoch 16/100\n",
            "18/18 [==============================] - 0s 3ms/step - loss: 0.0028 - r_square: 0.9466 - mse: 0.0028\n",
            "Epoch 17/100\n",
            "18/18 [==============================] - 0s 4ms/step - loss: 0.0028 - r_square: 0.9475 - mse: 0.0028\n",
            "Epoch 18/100\n",
            "18/18 [==============================] - 0s 3ms/step - loss: 0.0028 - r_square: 0.9466 - mse: 0.0028\n",
            "Epoch 19/100\n",
            "18/18 [==============================] - 0s 3ms/step - loss: 0.0025 - r_square: 0.9519 - mse: 0.0025\n",
            "Epoch 20/100\n",
            "18/18 [==============================] - 0s 4ms/step - loss: 0.0026 - r_square: 0.9504 - mse: 0.0026\n",
            "Epoch 21/100\n",
            "18/18 [==============================] - 0s 3ms/step - loss: 0.0025 - r_square: 0.9518 - mse: 0.0025\n",
            "Epoch 22/100\n",
            "18/18 [==============================] - 0s 3ms/step - loss: 0.0022 - r_square: 0.9590 - mse: 0.0022\n",
            "Epoch 23/100\n",
            "18/18 [==============================] - 0s 3ms/step - loss: 0.0024 - r_square: 0.9539 - mse: 0.0024\n",
            "Epoch 24/100\n",
            "18/18 [==============================] - 0s 3ms/step - loss: 0.0024 - r_square: 0.9509 - mse: 0.0024\n",
            "Epoch 25/100\n",
            "18/18 [==============================] - 0s 3ms/step - loss: 0.0020 - r_square: 0.9624 - mse: 0.0020\n",
            "Epoch 26/100\n",
            "18/18 [==============================] - 0s 3ms/step - loss: 0.0021 - r_square: 0.9604 - mse: 0.0021\n",
            "Epoch 27/100\n",
            "18/18 [==============================] - 0s 3ms/step - loss: 0.0024 - r_square: 0.9541 - mse: 0.0024\n",
            "Epoch 28/100\n",
            "18/18 [==============================] - 0s 3ms/step - loss: 0.0023 - r_square: 0.9568 - mse: 0.0023\n",
            "Epoch 29/100\n",
            "18/18 [==============================] - 0s 3ms/step - loss: 0.0023 - r_square: 0.9567 - mse: 0.0023\n",
            "Epoch 30/100\n",
            "18/18 [==============================] - 0s 3ms/step - loss: 0.0020 - r_square: 0.9603 - mse: 0.0020\n",
            "Epoch 31/100\n",
            "18/18 [==============================] - 0s 3ms/step - loss: 0.0020 - r_square: 0.9613 - mse: 0.0020\n",
            "Epoch 32/100\n",
            "18/18 [==============================] - 0s 3ms/step - loss: 0.0020 - r_square: 0.9626 - mse: 0.0020\n",
            "Epoch 33/100\n",
            "18/18 [==============================] - 0s 3ms/step - loss: 0.0020 - r_square: 0.9611 - mse: 0.0020\n",
            "Epoch 34/100\n",
            "18/18 [==============================] - 0s 4ms/step - loss: 0.0021 - r_square: 0.9597 - mse: 0.0021\n",
            "Epoch 35/100\n",
            "18/18 [==============================] - 0s 3ms/step - loss: 0.0020 - r_square: 0.9619 - mse: 0.0020\n",
            "Epoch 36/100\n",
            "18/18 [==============================] - 0s 4ms/step - loss: 0.0019 - r_square: 0.9635 - mse: 0.0019\n",
            "Epoch 37/100\n",
            "18/18 [==============================] - 0s 3ms/step - loss: 0.0020 - r_square: 0.9626 - mse: 0.0020\n",
            "Epoch 38/100\n",
            "18/18 [==============================] - 0s 3ms/step - loss: 0.0021 - r_square: 0.9608 - mse: 0.0021\n",
            "Epoch 39/100\n",
            "18/18 [==============================] - 0s 3ms/step - loss: 0.0019 - r_square: 0.9646 - mse: 0.0019\n",
            "Epoch 40/100\n",
            "18/18 [==============================] - 0s 3ms/step - loss: 0.0023 - r_square: 0.9577 - mse: 0.0023\n",
            "Epoch 41/100\n",
            "18/18 [==============================] - 0s 3ms/step - loss: 0.0020 - r_square: 0.9630 - mse: 0.0020\n",
            "Epoch 42/100\n",
            "18/18 [==============================] - 0s 4ms/step - loss: 0.0021 - r_square: 0.9605 - mse: 0.0021\n",
            "Epoch 43/100\n",
            "18/18 [==============================] - 0s 3ms/step - loss: 0.0019 - r_square: 0.9640 - mse: 0.0019\n",
            "Epoch 44/100\n",
            "18/18 [==============================] - 0s 3ms/step - loss: 0.0017 - r_square: 0.9674 - mse: 0.0017\n",
            "Epoch 45/100\n",
            "18/18 [==============================] - 0s 4ms/step - loss: 0.0021 - r_square: 0.9604 - mse: 0.0021\n",
            "Epoch 46/100\n",
            "18/18 [==============================] - 0s 4ms/step - loss: 0.0017 - r_square: 0.9666 - mse: 0.0017\n",
            "Epoch 47/100\n",
            "18/18 [==============================] - 0s 3ms/step - loss: 0.0019 - r_square: 0.9627 - mse: 0.0019\n",
            "Epoch 48/100\n",
            "18/18 [==============================] - 0s 3ms/step - loss: 0.0020 - r_square: 0.9608 - mse: 0.0020\n",
            "Epoch 49/100\n",
            "18/18 [==============================] - 0s 3ms/step - loss: 0.0018 - r_square: 0.9661 - mse: 0.0018\n",
            "Epoch 50/100\n",
            "18/18 [==============================] - 0s 3ms/step - loss: 0.0019 - r_square: 0.9643 - mse: 0.0019\n",
            "Epoch 51/100\n",
            "18/18 [==============================] - 0s 3ms/step - loss: 0.0018 - r_square: 0.9669 - mse: 0.0018\n",
            "Epoch 52/100\n",
            "18/18 [==============================] - 0s 3ms/step - loss: 0.0016 - r_square: 0.9695 - mse: 0.0016\n",
            "Epoch 53/100\n",
            "18/18 [==============================] - 0s 3ms/step - loss: 0.0017 - r_square: 0.9681 - mse: 0.0017\n",
            "Epoch 54/100\n",
            "18/18 [==============================] - 0s 4ms/step - loss: 0.0022 - r_square: 0.9589 - mse: 0.0022\n",
            "Epoch 55/100\n",
            "18/18 [==============================] - 0s 4ms/step - loss: 0.0023 - r_square: 0.9565 - mse: 0.0023\n",
            "Epoch 56/100\n",
            "18/18 [==============================] - 0s 3ms/step - loss: 0.0022 - r_square: 0.9592 - mse: 0.0022\n",
            "Epoch 57/100\n",
            "18/18 [==============================] - 0s 3ms/step - loss: 0.0017 - r_square: 0.9671 - mse: 0.0017\n",
            "Epoch 58/100\n",
            "18/18 [==============================] - 0s 3ms/step - loss: 0.0019 - r_square: 0.9636 - mse: 0.0019\n",
            "Epoch 59/100\n",
            "18/18 [==============================] - 0s 3ms/step - loss: 0.0017 - r_square: 0.9660 - mse: 0.0017\n",
            "Epoch 60/100\n",
            "18/18 [==============================] - 0s 3ms/step - loss: 0.0020 - r_square: 0.9632 - mse: 0.0020\n",
            "Epoch 61/100\n",
            "18/18 [==============================] - 0s 4ms/step - loss: 0.0018 - r_square: 0.9651 - mse: 0.0018\n",
            "Epoch 62/100\n",
            "18/18 [==============================] - 0s 3ms/step - loss: 0.0021 - r_square: 0.9602 - mse: 0.0021\n",
            "Epoch 63/100\n",
            "18/18 [==============================] - 0s 3ms/step - loss: 0.0019 - r_square: 0.9630 - mse: 0.0019\n",
            "Epoch 64/100\n",
            "18/18 [==============================] - 0s 3ms/step - loss: 0.0019 - r_square: 0.9646 - mse: 0.0019\n",
            "Epoch 65/100\n",
            "18/18 [==============================] - 0s 4ms/step - loss: 0.0016 - r_square: 0.9681 - mse: 0.0016\n",
            "Epoch 66/100\n",
            "18/18 [==============================] - 0s 4ms/step - loss: 0.0016 - r_square: 0.9680 - mse: 0.0016\n",
            "Epoch 67/100\n",
            "18/18 [==============================] - 0s 4ms/step - loss: 0.0019 - r_square: 0.9640 - mse: 0.0019\n",
            "Epoch 68/100\n",
            "18/18 [==============================] - 0s 3ms/step - loss: 0.0017 - r_square: 0.9682 - mse: 0.0017\n",
            "Epoch 69/100\n",
            "18/18 [==============================] - 0s 3ms/step - loss: 0.0017 - r_square: 0.9684 - mse: 0.0017\n",
            "Epoch 70/100\n",
            "18/18 [==============================] - 0s 3ms/step - loss: 0.0019 - r_square: 0.9638 - mse: 0.0019\n",
            "Epoch 71/100\n",
            "18/18 [==============================] - 0s 3ms/step - loss: 0.0020 - r_square: 0.9634 - mse: 0.0020\n",
            "Epoch 72/100\n",
            "18/18 [==============================] - 0s 3ms/step - loss: 0.0019 - r_square: 0.9634 - mse: 0.0019\n",
            "Epoch 73/100\n",
            "18/18 [==============================] - 0s 3ms/step - loss: 0.0018 - r_square: 0.9648 - mse: 0.0018\n",
            "Epoch 74/100\n",
            "18/18 [==============================] - 0s 3ms/step - loss: 0.0015 - r_square: 0.9709 - mse: 0.0015\n",
            "Epoch 75/100\n",
            "18/18 [==============================] - 0s 4ms/step - loss: 0.0015 - r_square: 0.9716 - mse: 0.0015\n",
            "Epoch 76/100\n",
            "18/18 [==============================] - 0s 3ms/step - loss: 0.0022 - r_square: 0.9584 - mse: 0.0022\n",
            "Epoch 77/100\n",
            "18/18 [==============================] - 0s 3ms/step - loss: 0.0025 - r_square: 0.9530 - mse: 0.0025\n",
            "Epoch 78/100\n",
            "18/18 [==============================] - 0s 4ms/step - loss: 0.0022 - r_square: 0.9597 - mse: 0.0022\n",
            "Epoch 79/100\n",
            "18/18 [==============================] - 0s 4ms/step - loss: 0.0019 - r_square: 0.9636 - mse: 0.0019\n",
            "Epoch 80/100\n",
            "18/18 [==============================] - 0s 3ms/step - loss: 0.0024 - r_square: 0.9543 - mse: 0.0024\n",
            "Epoch 81/100\n",
            "18/18 [==============================] - 0s 3ms/step - loss: 0.0029 - r_square: 0.9465 - mse: 0.0029\n",
            "Epoch 82/100\n",
            "18/18 [==============================] - 0s 3ms/step - loss: 0.0023 - r_square: 0.9562 - mse: 0.0023\n",
            "Epoch 83/100\n",
            "18/18 [==============================] - 0s 3ms/step - loss: 0.0021 - r_square: 0.9588 - mse: 0.0021\n",
            "Epoch 84/100\n",
            "18/18 [==============================] - 0s 3ms/step - loss: 0.0021 - r_square: 0.9604 - mse: 0.0021\n",
            "Epoch 85/100\n",
            "18/18 [==============================] - 0s 3ms/step - loss: 0.0016 - r_square: 0.9699 - mse: 0.0016\n",
            "Epoch 86/100\n",
            "18/18 [==============================] - 0s 4ms/step - loss: 0.0016 - r_square: 0.9702 - mse: 0.0016\n",
            "Epoch 87/100\n",
            "18/18 [==============================] - 0s 3ms/step - loss: 0.0018 - r_square: 0.9650 - mse: 0.0018\n",
            "Epoch 88/100\n",
            "18/18 [==============================] - 0s 3ms/step - loss: 0.0018 - r_square: 0.9652 - mse: 0.0018\n",
            "Epoch 89/100\n",
            "18/18 [==============================] - 0s 3ms/step - loss: 0.0023 - r_square: 0.9560 - mse: 0.0023\n",
            "Epoch 90/100\n",
            "18/18 [==============================] - 0s 4ms/step - loss: 0.0023 - r_square: 0.9554 - mse: 0.0023\n",
            "Epoch 91/100\n",
            "18/18 [==============================] - 0s 3ms/step - loss: 0.0017 - r_square: 0.9673 - mse: 0.0017\n",
            "Epoch 92/100\n",
            "18/18 [==============================] - 0s 3ms/step - loss: 0.0019 - r_square: 0.9648 - mse: 0.0019\n",
            "Epoch 93/100\n",
            "18/18 [==============================] - 0s 3ms/step - loss: 0.0019 - r_square: 0.9636 - mse: 0.0019\n",
            "Epoch 94/100\n",
            "18/18 [==============================] - 0s 3ms/step - loss: 0.0016 - r_square: 0.9695 - mse: 0.0016\n",
            "Epoch 95/100\n",
            "18/18 [==============================] - 0s 3ms/step - loss: 0.0017 - r_square: 0.9685 - mse: 0.0017\n",
            "Epoch 96/100\n",
            "18/18 [==============================] - 0s 4ms/step - loss: 0.0020 - r_square: 0.9629 - mse: 0.0020\n",
            "Epoch 97/100\n",
            "18/18 [==============================] - 0s 3ms/step - loss: 0.0017 - r_square: 0.9683 - mse: 0.0017\n",
            "Epoch 98/100\n",
            "18/18 [==============================] - 0s 3ms/step - loss: 0.0017 - r_square: 0.9690 - mse: 0.0017\n",
            "Epoch 99/100\n",
            "18/18 [==============================] - 0s 3ms/step - loss: 0.0014 - r_square: 0.9727 - mse: 0.0014\n",
            "Epoch 100/100\n",
            "18/18 [==============================] - 0s 3ms/step - loss: 0.0019 - r_square: 0.9629 - mse: 0.0019\n"
          ],
          "name": "stdout"
        }
      ]
    },
    {
      "cell_type": "markdown",
      "metadata": {
        "id": "Mug3jsKPZoL1",
        "colab_type": "text"
      },
      "source": [
        "# Display the best parameters\n",
        "Finally, the performance and combination of configurations for the best model are displayed, followed by the performance of all combinations of parameters."
      ]
    },
    {
      "cell_type": "code",
      "metadata": {
        "id": "YMWnwenSZ_K7",
        "colab_type": "code",
        "colab": {
          "base_uri": "https://localhost:8080/",
          "height": 347
        },
        "outputId": "37e9a3eb-41f4-4672-a491-05b6ff8c2f50"
      },
      "source": [
        "print(\"Best: %f using %s\" % (grid_result.best_score_, grid_result.best_params_))\n",
        "\n",
        "means = grid_result.cv_results_['mean_test_score']\n",
        "stds = grid_result.cv_results_['std_test_score']\n",
        "params = grid_result.cv_results_['params']\n",
        "for mean, stdev, param in zip(means, stds, params):\n",
        "\tprint(\"%f (%f) with: %r\" % (mean, stdev, param))"
      ],
      "execution_count": 11,
      "outputs": [
        {
          "output_type": "stream",
          "text": [
            "Best: -0.031408 using {'dropout_rate': 0.2, 'neurons': 16}\n",
            "-0.049908 (0.036983) with: {'dropout_rate': 0, 'neurons': 16}\n",
            "-0.037677 (0.010151) with: {'dropout_rate': 0, 'neurons': 32}\n",
            "-0.085844 (0.063149) with: {'dropout_rate': 0, 'neurons': 64}\n",
            "-0.051102 (0.026666) with: {'dropout_rate': 0.1, 'neurons': 16}\n",
            "-0.051765 (0.033009) with: {'dropout_rate': 0.1, 'neurons': 32}\n",
            "-0.126717 (0.190100) with: {'dropout_rate': 0.1, 'neurons': 64}\n",
            "-0.031408 (0.013183) with: {'dropout_rate': 0.2, 'neurons': 16}\n",
            "-0.139452 (0.212299) with: {'dropout_rate': 0.2, 'neurons': 32}\n",
            "-0.203104 (0.253109) with: {'dropout_rate': 0.2, 'neurons': 64}\n",
            "-0.086999 (0.076656) with: {'dropout_rate': 0.3, 'neurons': 16}\n",
            "-0.149454 (0.199839) with: {'dropout_rate': 0.3, 'neurons': 32}\n",
            "-0.114761 (0.094808) with: {'dropout_rate': 0.3, 'neurons': 64}\n",
            "-0.068492 (0.058758) with: {'dropout_rate': 0.4, 'neurons': 16}\n",
            "-0.145936 (0.206755) with: {'dropout_rate': 0.4, 'neurons': 32}\n",
            "-0.325433 (0.357313) with: {'dropout_rate': 0.4, 'neurons': 64}\n",
            "-0.074945 (0.072476) with: {'dropout_rate': 0.5, 'neurons': 16}\n",
            "-0.059699 (0.034809) with: {'dropout_rate': 0.5, 'neurons': 32}\n",
            "-0.152804 (0.138522) with: {'dropout_rate': 0.5, 'neurons': 64}\n"
          ],
          "name": "stdout"
        }
      ]
    }
  ]
}