{
  "nbformat": 4,
  "nbformat_minor": 0,
  "metadata": {
    "colab": {
      "name": "HowTo_fit_filters.ipynb",
      "provenance": [],
      "collapsed_sections": [
        "kRjOpQoQi77O",
        "qeURbHoSjkyD",
        "SuKg4zIp1DwP",
        "QQcDqSrQ3hNq"
      ],
      "authorship_tag": "ABX9TyPIW7cVKdXROYXbhoSb01L2",
      "include_colab_link": true
    },
    "kernelspec": {
      "name": "python3",
      "display_name": "Python 3"
    }
  },
  "cells": [
    {
      "cell_type": "markdown",
      "metadata": {
        "id": "view-in-github",
        "colab_type": "text"
      },
      "source": [
        "<a href=\"https://colab.research.google.com/github/Foxy1987/neuroGLM/blob/master/HowTo_fit_filters.ipynb\" target=\"_parent\"><img src=\"https://colab.research.google.com/assets/colab-badge.svg\" alt=\"Open In Colab\"/></a>"
      ]
    },
    {
      "cell_type": "markdown",
      "metadata": {
        "id": "fLfkt_Dhj8kd",
        "colab_type": "text"
      },
      "source": [
        "# Machine Learning: GLMs\n",
        "__Content creator:__ David Fox\n"
      ]
    },
    {
      "cell_type": "markdown",
      "metadata": {
        "id": "3L3kcMp0lRD1",
        "colab_type": "text"
      },
      "source": [
        "Hello. I developed a library of python modules which supports fitting and analysis of trial-based time series data in sensory neuroscience using a generalized linear model (GLM). The time series could represent neural spike responses or behavioral responses to arbitrary stimulus presentations. \n",
        "\n",
        "For example, we record spike responses from a single neuron or the behavioral response of an animal to multiple presentations of a stimulus, and would like to know what aspects of the stimulus are encoded in the neural response or behavior. This code package allows us to discover such dependencies.\n",
        "\n",
        "Response variables, here neural recordings or behavior, are are accompanied by various other controlled manipulations or measurements, here an olfactory stimulus. It is hard to find a representation of the stimulus (called a regressor) in the response for regression-style analysis because they don't have an instantaneous effect on the response (dependent) variable. This package allows you to expand and transform your experimental variables (stimulus) to a feature space as a design matrix that is amenable to regression. This allows you to find out the relationship between the response variable and each regressor as a function of time.\n",
        "\n",
        "This tutorial will explain how to import trial-based experimental data, and build appropriate features spaces to do regression analysis. The ultimate output of the regression is a set of weights on the coefficients that define a stimulus filter (and a post-spike filter)\n",
        "\n",
        "The filter weights of the linear regression model can be estimated in one of two ways:\n",
        "1.   Least squares (ridge-regression with cross-validation)\n",
        "2.   maximum-likelihood estimation under a Poissson GLM model with an exponential nonlinearity\n",
        "\n",
        "To learn more about GLMs visit: https://mfr.ca-1.osf.io/render?url=https://osf.io/8sqhc/?direct%26mode=render%26action=download%26mode=render\n",
        "\n",
        "\n",
        "\n"
      ]
    },
    {
      "cell_type": "markdown",
      "metadata": {
        "id": "_xSx4kJmxQn9",
        "colab_type": "text"
      },
      "source": [
        "# Import package and libraries"
      ]
    },
    {
      "cell_type": "code",
      "metadata": {
        "id": "DMqfbZDBaFpp",
        "colab_type": "code",
        "cellView": "both",
        "colab": {
          "base_uri": "https://localhost:8080/",
          "height": 156
        },
        "outputId": "dae92058-5cfe-41a0-fb87-87970c21cf67"
      },
      "source": [
        "#@title Clone the github repository \n",
        "!git clone https://github.com/Foxy1987/neuroGLM\n",
        "%cd neuroGLM\n"
      ],
      "execution_count": 2,
      "outputs": [
        {
          "output_type": "stream",
          "text": [
            "Cloning into 'neuroGLM'...\n",
            "remote: Enumerating objects: 137, done.\u001b[K\n",
            "remote: Counting objects: 100% (137/137), done.\u001b[K\n",
            "remote: Compressing objects: 100% (96/96), done.\u001b[K\n",
            "remote: Total 137 (delta 58), reused 100 (delta 38), pack-reused 0\u001b[K\n",
            "Receiving objects: 100% (137/137), 232.78 KiB | 892.00 KiB/s, done.\n",
            "Resolving deltas: 100% (58/58), done.\n",
            "/content/neuroGLM\n"
          ],
          "name": "stdout"
        }
      ]
    },
    {
      "cell_type": "code",
      "metadata": {
        "id": "oydcj47axhr-",
        "colab_type": "code",
        "cellView": "form",
        "colab": {}
      },
      "source": [
        "#@title add package to google colab\n",
        "import sys, os\n",
        "sys.path.append(os.getcwd())"
      ],
      "execution_count": 3,
      "outputs": []
    },
    {
      "cell_type": "code",
      "metadata": {
        "id": "-dF8Lr6DbQfC",
        "colab_type": "code",
        "cellView": "form",
        "colab": {}
      },
      "source": [
        "#@title import modules\n",
        "from glmtools.make_xdsgn import DesignMatrix, Experiment, DesignSpec\n",
        "import utils.read as io\n",
        "import numpy as np\n",
        "from matplotlib import pyplot as plt\n",
        "from scipy.optimize import minimize\n",
        "from glmtools.fit import neg_log_lik"
      ],
      "execution_count": 4,
      "outputs": []
    },
    {
      "cell_type": "markdown",
      "metadata": {
        "id": "oR8AxgNUdLP1",
        "colab_type": "text"
      },
      "source": [
        "# Upload files from your local drive to google colab: \n",
        "\n",
        "These files should be the following:\n",
        "1.   stimulus file: this is a regular txt file containing a single column representing the stimulus waveform\n",
        "2.   spike times file: a .mat file containing a cell array. Each cell is a trial and should contain an array of the times a neuron spiked in response to that stimulus.\n",
        "\n"
      ]
    },
    {
      "cell_type": "code",
      "metadata": {
        "id": "31V-S9ZvdAnZ",
        "colab_type": "code",
        "colab": {
          "resources": {
            "http://localhost:8080/nbextensions/google.colab/files.js": {
              "data": "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",
              "ok": true,
              "headers": [
                [
                  "content-type",
                  "application/javascript"
                ]
              ],
              "status": 200,
              "status_text": "OK"
            }
          },
          "base_uri": "https://localhost:8080/",
          "height": 35
        },
        "outputId": "d7113ff2-da6d-4ac9-8074-af03e6fdbf0e"
      },
      "source": [
        "from google.colab import files\n",
        "uploaded = files.upload()"
      ],
      "execution_count": null,
      "outputs": [
        {
          "output_type": "display_data",
          "data": {
            "text/html": [
              "\n",
              "     <input type=\"file\" id=\"files-23ae171e-193c-4f25-96fe-2f17cf19b735\" name=\"files[]\" multiple disabled\n",
              "        style=\"border:none\" />\n",
              "     <output id=\"result-23ae171e-193c-4f25-96fe-2f17cf19b735\">\n",
              "      Upload widget is only available when the cell has been executed in the\n",
              "      current browser session. Please rerun this cell to enable.\n",
              "      </output>\n",
              "      <script src=\"/nbextensions/google.colab/files.js\"></script> "
            ],
            "text/plain": [
              "<IPython.core.display.HTML object>"
            ]
          },
          "metadata": {
            "tags": []
          }
        }
      ]
    },
    {
      "cell_type": "code",
      "metadata": {
        "id": "JUjpnU8rh0VH",
        "colab_type": "code",
        "colab": {}
      },
      "source": [
        "stim, sptimes = io.load_spk_times('datasets/stim.txt', 'datasets/spTimesPNControl/pn1SpTimes_reverseChirp.mat', 5, 30)"
      ],
      "execution_count": 5,
      "outputs": []
    },
    {
      "cell_type": "code",
      "metadata": {
        "id": "CHaKWzANMCZE",
        "colab_type": "code",
        "colab": {
          "base_uri": "https://localhost:8080/",
          "height": 34
        },
        "outputId": "deec1850-ac51-42a9-cfb0-a0a8fc6708f7"
      },
      "source": [
        "!ls datasets/"
      ],
      "execution_count": 6,
      "outputs": [
        {
          "output_type": "stream",
          "text": [
            "spTimesPNControl  stim.txt\n"
          ],
          "name": "stdout"
        }
      ]
    },
    {
      "cell_type": "markdown",
      "metadata": {
        "id": "kRjOpQoQi77O",
        "colab_type": "text"
      },
      "source": [
        "# Bin the spike times\n",
        "Now we will bin the spike times using the same time bin size used for the stimulus. We will use the time bin centers to bin the spike train.\n"
      ]
    },
    {
      "cell_type": "code",
      "metadata": {
        "id": "lOkAFgPji95t",
        "colab_type": "code",
        "colab": {}
      },
      "source": [
        "trials = len(sptimes)\n",
        "duration = 25\n",
        "nt = len(stim)\n",
        "stim = (stim / np.max(stim))*0.01\n",
        "dt = 0.001                                # 1 ms time bins = 1 KHz sample frequency\n",
        "t = (np.arange(nt))*dt\n",
        "sp_count_fun = lambda x: np.histogram(x, np.arange(0.5, len(stim)+1) * dt - dt)[0] \n",
        "sps = list(map(sp_count_fun, sptimes))    # apply the binning function sp_count_fun to each trial\n",
        "stim_ = np.tile(stim, (trials, 1))        # we need a stim for every trial\n"
      ],
      "execution_count": 8,
      "outputs": []
    },
    {
      "cell_type": "markdown",
      "metadata": {
        "id": "qeURbHoSjkyD",
        "colab_type": "text"
      },
      "source": [
        "# Create an experiment object \n",
        "Now we will make an experiment object to hold response variable and to register the types of regressors in the experiment"
      ]
    },
    {
      "cell_type": "code",
      "metadata": {
        "id": "3RZ5mLhMjpLC",
        "colab_type": "code",
        "colab": {}
      },
      "source": [
        "# make an Experiment object\n",
        "expt = Experiment(dt, duration, stim=stim_, sptimes=sps)\n",
        "\n",
        "# register continuous external regressor\n",
        "expt.registerContinuous('stim')\n",
        "\n",
        "# register internal sptrain regressor\n",
        "expt.register_spike_train('sptrain')"
      ],
      "execution_count": null,
      "outputs": []
    },
    {
      "cell_type": "markdown",
      "metadata": {
        "id": "SuKg4zIp1DwP",
        "colab_type": "text"
      },
      "source": [
        "# lets visualize our stimulus and response"
      ]
    },
    {
      "cell_type": "code",
      "metadata": {
        "id": "Z12hiHGS1Lxa",
        "colab_type": "code",
        "colab": {
          "base_uri": "https://localhost:8080/",
          "height": 352
        },
        "outputId": "a05e1273-1906-4f66-9419-0f9f17680116"
      },
      "source": [
        "sps_ = np.empty((len(stim), trials))\n",
        "actual = list(map(sp_count_fun, sptimes))\n",
        "actual_ = list(map(lambda x: x * (np.arange(len(stim)) + 1) * dt, actual))\n",
        "for i in range(5):\n",
        "\tsps_[:, i] = actual_[i].T\n",
        "\n",
        "# Share a X axis with each column of subplots\n",
        "fig, (ax1, ax2) = plt.subplots(2, 1, sharex='col')\n",
        "ax1.plot(t, stim)\n",
        "ax2.eventplot(sps_.T, colors='k', linewidth=0.5)\n",
        "\n"
      ],
      "execution_count": null,
      "outputs": [
        {
          "output_type": "execute_result",
          "data": {
            "text/plain": [
              "[<matplotlib.collections.EventCollection at 0x7fcd67d7cba8>,\n",
              " <matplotlib.collections.EventCollection at 0x7fcd62160400>,\n",
              " <matplotlib.collections.EventCollection at 0x7fcd614ed908>,\n",
              " <matplotlib.collections.EventCollection at 0x7fcd6087ef60>,\n",
              " <matplotlib.collections.EventCollection at 0x7fcd5fb944a8>]"
            ]
          },
          "metadata": {
            "tags": []
          },
          "execution_count": 56
        },
        {
          "output_type": "display_data",
          "data": {
            "image/png": "[encoded data removed]",
            "text/plain": [
              "<Figure size 432x288 with 2 Axes>"
            ]
          },
          "metadata": {
            "tags": [],
            "needs_background": "light"
          }
        }
      ]
    },
    {
      "cell_type": "markdown",
      "metadata": {
        "id": "QQcDqSrQ3hNq",
        "colab_type": "text"
      },
      "source": [
        "# Create an Experiment object\n",
        "Now we will make an experiment object to hold response variable and to register the types of regressors in the experiment"
      ]
    },
    {
      "cell_type": "code",
      "metadata": {
        "id": "0G2Yi7m43lIg",
        "colab_type": "code",
        "colab": {}
      },
      "source": [
        "# make an Experiment object\n",
        "expt = Experiment(dt, duration, stim=stim_, sptimes=sps)\n",
        "\n",
        "# register continuous external regressor\n",
        "expt.registerContinuous('stim')\n",
        "\n",
        "# register internal sptrain regressor\n",
        "expt.register_spike_train('sptrain')"
      ],
      "execution_count": null,
      "outputs": []
    },
    {
      "cell_type": "markdown",
      "metadata": {
        "id": "X6syfbDr33zN",
        "colab_type": "text"
      },
      "source": [
        "# Create a design specification object\n",
        "This object holds all the information about how to construct the design matrix for each regressor. The function compile_design_matrix_from_trial_indices() stacks design matrices for a given regressor and for each trial on top of one another. "
      ]
    },
    {
      "cell_type": "code",
      "metadata": {
        "id": "WMSAiOps36KX",
        "colab_type": "code",
        "colab": {}
      },
      "source": [
        "trial_inds = list(range(len(sptimes)))\n",
        "dspec = DesignSpec(expt, trial_inds)\n",
        "\n",
        "# add stim and spike history regressors\n",
        "dspec.addRegressorContinuous()\n",
        "dspec.addRegressorSpTrain()"
      ],
      "execution_count": null,
      "outputs": []
    },
    {
      "cell_type": "markdown",
      "metadata": {
        "id": "tOpWBvJH4LcB",
        "colab_type": "text"
      },
      "source": [
        "# Build the design matrix and view the contents\n",
        "Now we use the information about each regressor included in the experiment and the number of trials to construct a design matrix"
      ]
    },
    {
      "cell_type": "code",
      "metadata": {
        "id": "bhOUZAVU4N0R",
        "colab_type": "code",
        "colab": {
          "base_uri": "https://localhost:8080/",
          "height": 364
        },
        "outputId": "2c5d05d6-e54f-4e08-d5ac-cb17a27155fa"
      },
      "source": [
        "dm, X, y = dspec.compileDesignMatrixFromTrialIndices()"
      ],
      "execution_count": null,
      "outputs": [
        {
          "output_type": "stream",
          "text": [
            "forming design matrix from trial indices\n",
            "forming design matrix from trial indices\n",
            "convolving padded stimulus with raised cosine basis functions\n",
            "convolving padded stimulus with raised cosine basis functions\n",
            "forming design matrix from trial indices\n",
            "forming design matrix from trial indices\n",
            "convolving padded stimulus with raised cosine basis functions\n",
            "convolving padded stimulus with raised cosine basis functions\n",
            "forming design matrix from trial indices\n",
            "forming design matrix from trial indices\n",
            "convolving padded stimulus with raised cosine basis functions\n",
            "convolving padded stimulus with raised cosine basis functions\n",
            "forming design matrix from trial indices\n",
            "forming design matrix from trial indices\n",
            "convolving padded stimulus with raised cosine basis functions\n",
            "convolving padded stimulus with raised cosine basis functions\n",
            "forming design matrix from trial indices\n",
            "forming design matrix from trial indices\n",
            "convolving padded stimulus with raised cosine basis functions\n",
            "convolving padded stimulus with raised cosine basis functions\n"
          ],
          "name": "stdout"
        }
      ]
    },
    {
      "cell_type": "markdown",
      "metadata": {
        "id": "HDocOjOvDdAi",
        "colab_type": "text"
      },
      "source": [
        "# Nonlinear optimization with `scipy.optimize\n",
        "We will use scipy.optimize.minimize to compute maximum likelihood estimates for the filter weights in the Poissson GLM model with an exponential nonlinearity.\n",
        "\n",
        "We defined an *objective function* called neg_log_lik that takes as input a design matrix, a spike count vector, and a vector of parameters and returns a negative log likelihood.\n",
        "\n",
        "What should the objective function look like? We want it to return the negative log likelihood: $-\\log P(y \\mid X, \\theta).$\n",
        "\n",
        "In the Poisson GLM,\n",
        "\n",
        "$$\n",
        "\\log P(\\mathbf{y} \\mid X, \\theta) = \\sum_t \\log P(y_t \\mid \\mathbf{x_t},\\theta),\n",
        "$$\n",
        "\n",
        "where\n",
        "\n",
        "$$ P(y_t \\mid \\mathbf{x_t}, \\theta) = \\frac{\\lambda_t^{y_t}\\exp(-\\lambda_t)}{y_t!} \\text{, with rate } \\lambda_t = \\exp(\\mathbf{x_t}^{\\top} \\theta).$$\n",
        "\n",
        "Now, taking the log likelihood for all the data we obtain:\n",
        "$\\log P(\\mathbf{y} \\mid X, \\theta) = \\sum_t( y_t \\log(\\lambda_t) - \\lambda_t - \\log(y_t !)).$\n",
        "\n",
        "Because we are going to minimize the negative log likelihood with respct to the parameters $\\theta$, we can ignore the last term that does not depend on $\\theta$. For faster implementation, let us rewrite this in matrix notation:\n",
        "\n",
        "$$\\mathbf{y}^T \\log(\\mathbf{\\lambda}) - \\mathbf{1}^T \\mathbf{\\lambda} \\text{, with  rate } \\mathbf{\\lambda} = \\exp(X^{\\top} \\theta)$$\n",
        "\n",
        "Finally, don't forget to add the minus sign for your function to return the negative log likelihood."
      ]
    },
    {
      "cell_type": "markdown",
      "metadata": {
        "id": "Z264ZcpIDgx-",
        "colab_type": "text"
      },
      "source": [
        "Use a random vector of weights to start (mean 0, sd .2) and call the minimize function"
      ]
    },
    {
      "cell_type": "code",
      "metadata": {
        "id": "cB4cPoqdDmP4",
        "colab_type": "code",
        "colab": {
          "base_uri": "https://localhost:8080/",
          "height": 156
        },
        "outputId": "36e26679-2033-4bc6-8a7c-6bce3d9f252f"
      },
      "source": [
        "prs = [0.0, -16.9989, 4.5455, 1.1125, 0.8270, -1.3354]\n",
        "ih_pars = np.random.normal(0, .2,  8)\n",
        "prs = np.concatenate((prs, ih_pars), axis=0)\n",
        "res = minimize(neg_log_lik, prs, args=(5, X, y, 1),\n",
        "\t\t\t\t\t\t\t\t\t\toptions={'maxiter': 1000, 'disp': True})\n",
        "\n",
        "theta_ml = res['x']"
      ],
      "execution_count": null,
      "outputs": [
        {
          "output_type": "stream",
          "text": [
            "Warning: Desired error not necessarily achieved due to precision loss.\n",
            "         Current function value: -6082.588968\n",
            "         Iterations: 46\n",
            "         Function evaluations: 1041\n",
            "         Gradient evaluations: 65\n",
            "[  0.         -16.9989       4.5455       1.1125       0.827\n",
            "  -1.3354       0.05087387   0.19106999  -0.04786452   0.07591123\n",
            "  -0.0727497   -0.27738155   0.06097944   0.06738429]\n"
          ],
          "name": "stdout"
        }
      ]
    },
    {
      "cell_type": "markdown",
      "metadata": {
        "id": "2m-twI9XD5Y8",
        "colab_type": "text"
      },
      "source": [
        "# Combine the weights across the basis functions for each filter\n",
        "Now we need to combine the weights across each of the basis functions to get the stimulus filter and post-spike filter. These filters are saved in a dictionary for easy access."
      ]
    },
    {
      "cell_type": "code",
      "metadata": {
        "id": "2U_kj_qLD6-i",
        "colab_type": "code",
        "colab": {
          "base_uri": "https://localhost:8080/",
          "height": 34
        },
        "outputId": "27d9436c-447f-462b-dea4-fbdbb26a2206"
      },
      "source": [
        "# combine weights across each basis vector\n",
        "d = dm.get_regressor_from_output(theta_ml)\n",
        "\n",
        "dc = theta_ml[0]\n",
        "k = d['stim'][1]\n",
        "kt = d['stim'][0] * dt\n",
        "h = d['sptrain'][1]\n",
        "ht = d['sptrain'][0] * dt\n",
        "\n",
        "print(\"DC bias term is {} spikes/s\".format(dc))"
      ],
      "execution_count": null,
      "outputs": [
        {
          "output_type": "stream",
          "text": [
            "DC bias term is 1.4810733822918412 spikes/s\n"
          ],
          "name": "stdout"
        }
      ]
    },
    {
      "cell_type": "markdown",
      "metadata": {
        "id": "HmLz1IgfEh6A",
        "colab_type": "text"
      },
      "source": [
        "# Plot the stimulus filter and the postspike filter"
      ]
    },
    {
      "cell_type": "code",
      "metadata": {
        "id": "wSvJOn1eEnlN",
        "colab_type": "code",
        "colab": {
          "base_uri": "https://localhost:8080/",
          "height": 283
        },
        "outputId": "1a62d8f7-4fb4-4436-a736-a8db45f4984b"
      },
      "source": [
        "fig, (ax1, ax2) = plt.subplots(1, 2)\n",
        "ax1.plot(kt, k, '-k', linewidth=1)\n",
        "ax2.plot(ht, h, '-k', linewidth=1)\n",
        "ax1.plot([-1, 0], [0, 0], '--k')\n",
        "ax2.plot([0, .5], [0, 0], '--k')\n",
        "ax2.set_xlim(0, 0.5)\n",
        "ax1.set_ylim(-1, 8)\n",
        "ax1.set_xlabel('Time before spike (s)')\n",
        "ax2.set_xlabel('Time before spike (s)')\n",
        "plt.show()"
      ],
      "execution_count": null,
      "outputs": [
        {
          "output_type": "display_data",
          "data": {
            "image/png": "[encoded data removed]",
            "text/plain": [
              "<Figure size 432x288 with 2 Axes>"
            ]
          },
          "metadata": {
            "tags": [],
            "needs_background": "light"
          }
        }
      ]
    }
  ]
}