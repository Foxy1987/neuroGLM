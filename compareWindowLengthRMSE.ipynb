{
  "nbformat": 4,
  "nbformat_minor": 0,
  "metadata": {
    "colab": {
      "name": "compareWindowLengthRMSE.ipynb",
      "provenance": [],
      "authorship_tag": "ABX9TyO1hrauOPsM7RzTXILM+FPR",
      "include_colab_link": true
    },
    "kernelspec": {
      "name": "python3",
      "display_name": "Python 3"
    }
  },
  "cells": [
    {
      "cell_type": "markdown",
      "metadata": {
        "id": "view-in-github",
        "colab_type": "text"
      },
      "source": [
        "<a href=\"https://colab.research.google.com/github/davidfox87/neuro_encoding_models/blob/master/compareWindowLengthRMSE.ipynb\" target=\"_parent\"><img src=\"https://colab.research.google.com/assets/colab-badge.svg\" alt=\"Open In Colab\"/></a>"
      ]
    },
    {
      "cell_type": "code",
      "metadata": {
        "id": "1Z7UR2y93Hmz",
        "outputId": "f035afe7-ff40-4ced-bee1-63ec08b7b1c2",
        "colab": {
          "base_uri": "https://localhost:8080/",
          "height": 156
        }
      },
      "source": [
        "#@title Clone the github repository \n",
        "!git clone https://github.com/davidfox87/neuro_encoding_models\n",
        "%cd neuro_encoding_models/\n"
      ],
      "execution_count": 1,
      "outputs": [
        {
          "output_type": "stream",
          "text": [
            "Cloning into 'neuro_encoding_models'...\n",
            "remote: Enumerating objects: 410, done.\u001b[K\n",
            "remote: Counting objects: 100% (410/410), done.\u001b[K\n",
            "remote: Compressing objects: 100% (306/306), done.\u001b[K\n",
            "remote: Total 410 (delta 224), reused 227 (delta 101), pack-reused 0\u001b[K\n",
            "Receiving objects: 100% (410/410), 6.68 MiB | 11.95 MiB/s, done.\n",
            "Resolving deltas: 100% (224/224), done.\n",
            "/content/neuro_encoding_models\n"
          ],
          "name": "stdout"
        }
      ]
    },
    {
      "cell_type": "code",
      "metadata": {
        "id": "Wv_F9Me74Ffl"
      },
      "source": [
        "#@title add package to google colab\n",
        "import sys, os\n",
        "sys.path.append(os.getcwd())"
      ],
      "execution_count": 46,
      "outputs": []
    },
    {
      "cell_type": "code",
      "metadata": {
        "id": "EVXfHkBk5Ign"
      },
      "source": [
        "import pickle\n",
        "from matplotlib import pyplot as plt\n",
        "import numpy as np"
      ],
      "execution_count": 47,
      "outputs": []
    },
    {
      "cell_type": "code",
      "metadata": {
        "id": "7_60xfsI4Hmt",
        "outputId": "8c475ea5-cd9a-49f5-c744-4a470d16af89",
        "colab": {
          "base_uri": "https://localhost:8080/",
          "height": 34
        }
      },
      "source": [
        "from google.colab import drive\n",
        "drive.mount('/content/gdrive')"
      ],
      "execution_count": 48,
      "outputs": [
        {
          "output_type": "stream",
          "text": [
            "Drive already mounted at /content/gdrive; to attempt to forcibly remount, call drive.mount(\"/content/gdrive\", force_remount=True).\n"
          ],
          "name": "stdout"
        }
      ]
    },
    {
      "cell_type": "code",
      "metadata": {
        "id": "danFOqxg4VXJ",
        "outputId": "21484353-d768-44f6-9655-d39e93590dd3",
        "colab": {
          "base_uri": "https://localhost:8080/",
          "height": 625
        }
      },
      "source": [
        "%ls /content/gdrive/My\\ Drive"
      ],
      "execution_count": 39,
      "outputs": [
        {
          "output_type": "stream",
          "text": [
            " 61507788835__40E57B85-A9E5-48B4-A20C-4D8AAE8B057B.MOV\n",
            " angvturns_filter.pkl\n",
            "\u001b[0m\u001b[01;34m'Bread baking'\u001b[0m/\n",
            " budget2020.gsheet\n",
            " Codes.tar.gz\n",
            "\u001b[01;34m'Colab Notebooks'\u001b[0m/\n",
            "'Copy of DavidFoxResume.gdoc'\n",
            "'Copy of NMA-pod151-presentation.gslides'\n",
            "'Copy operation sheet.pdf'\n",
            " DavidFoxResumeLatest.docx\n",
            " foo.txt\n",
            " Fox_resume_04_19_2020.pdf\n",
            "\u001b[01;34m'Green Card Application'\u001b[0m/\n",
            "\u001b[01;34m'Health Stuff'\u001b[0m/\n",
            "'insight loan Qs .gsheet'\n",
            " \u001b[01;34mjobs\u001b[0m/\n",
            " \u001b[01;34mjobSearchStuff\u001b[0m/\n",
            " KITP2018.key\n",
            "\u001b[01;34m'machine learning'\u001b[0m/\n",
            " MichelleEmployersAddresses.pdf\n",
            " orn_filter.pkl\n",
            " pn_filter.pkl\n",
            "'Pod 151 project brainstorming.gdoc'\n",
            "'questions for angela tran.gdoc'\n",
            " SCN1588006888468.pdf\n",
            "\u001b[01;34m'Student Loans'\u001b[0m/\n",
            "'Tartine Bread-ElisabethPrueitt.epub'\n",
            "\u001b[01;34m'tax returns'\u001b[0m/\n",
            " \u001b[01;34mtherapy\u001b[0m/\n",
            "\u001b[01;34m'Travel documents'\u001b[0m/\n",
            "'Untitled document (1).gdoc'\n",
            "'Untitled document.gdoc'\n",
            " vmoves_filter.pkl\n",
            " vymoves_filter.pkl\n",
            "\u001b[01;34m'Work Stuff'\u001b[0m/\n"
          ],
          "name": "stdout"
        }
      ]
    },
    {
      "cell_type": "code",
      "metadata": {
        "id": "xZwl6hu34zKN"
      },
      "source": [
        "pkl_file = open('/content/gdrive/My Drive/' + 'angvturns' + '_filter.pkl', 'rb')\n",
        "angvturns = pickle.load(pkl_file)\n",
        "\n",
        "pkl_file = open('/content/gdrive/My Drive/' + 'vmoves' + '_filter.pkl', 'rb')\n",
        "vmoves = pickle.load(pkl_file)\n",
        "\n",
        "pkl_file = open('/content/gdrive/My Drive/' + 'vymoves' + '_filter.pkl', 'rb')\n",
        "vymoves = pickle.load(pkl_file)\n"
      ],
      "execution_count": 40,
      "outputs": []
    },
    {
      "cell_type": "code",
      "metadata": {
        "id": "ZdwUV99o5Opr",
        "outputId": "812f8879-5b8c-4026-ff55-42144157c6ac",
        "colab": {
          "base_uri": "https://localhost:8080/",
          "height": 282
        }
      },
      "source": [
        "plt.plot(np.abs(angvturns['window_length_mse']))\n",
        "plt.plot(np.abs(vmoves['window_length_mse']))\n",
        "plt.plot(np.abs(vymoves['window_length_mse']))"
      ],
      "execution_count": 37,
      "outputs": [
        {
          "output_type": "execute_result",
          "data": {
            "text/plain": [
              "[<matplotlib.lines.Line2D at 0x7ff8657b2a90>]"
            ]
          },
          "metadata": {
            "tags": []
          },
          "execution_count": 37
        },
        {
          "output_type": "display_data",
          "data": {
            "image/png": "[encoded data removed]",
            "text/plain": [
              "<Figure size 432x288 with 1 Axes>"
            ]
          },
          "metadata": {
            "tags": [],
            "needs_background": "light"
          }
        }
      ]
    },
    {
      "cell_type": "code",
      "metadata": {
        "id": "JlDWE26DJ9En"
      },
      "source": [
        "pkl_file = open('/content/gdrive/My Drive/' + 'orn' + '_filter.pkl', 'rb')\n",
        "orn = pickle.load(pkl_file)"
      ],
      "execution_count": 49,
      "outputs": []
    },
    {
      "cell_type": "code",
      "metadata": {
        "id": "IC2ng2RaKMO0",
        "outputId": "cebc9568-aa8a-487d-ae49-d4e99a95ce59",
        "colab": {
          "base_uri": "https://localhost:8080/",
          "height": 282
        }
      },
      "source": [
        "plt.plot(np.abs(orn['window_length']))"
      ],
      "execution_count": 52,
      "outputs": [
        {
          "output_type": "execute_result",
          "data": {
            "text/plain": [
              "[<matplotlib.lines.Line2D at 0x7ff8657e6898>]"
            ]
          },
          "metadata": {
            "tags": []
          },
          "execution_count": 52
        },
        {
          "output_type": "display_data",
          "data": {
            "image/png": "[encoded data removed]",
            "text/plain": [
              "<Figure size 432x288 with 1 Axes>"
            ]
          },
          "metadata": {
            "tags": [],
            "needs_background": "light"
          }
        }
      ]
    },
    {
      "cell_type": "code",
      "metadata": {
        "id": "fcuNxkaFKVhh",
        "outputId": "53d9c2ed-84cc-465b-da0f-9fbcf3d3646a",
        "colab": {
          "base_uri": "https://localhost:8080/",
          "height": 1000
        }
      },
      "source": [
        "orn"
      ],
      "execution_count": 51,
      "outputs": [
        {
          "output_type": "execute_result",
          "data": {
            "text/plain": [
              "{'k': array([-5.69114792e-03, -9.89659517e-04,  1.79679894e-03,  3.12142640e-03,\n",
              "         3.41572618e-03,  3.04298419e-03,  2.27786477e-03,  1.31227537e-03,\n",
              "         2.76101453e-04, -7.34976734e-04, -1.63734796e-03, -2.35144269e-03,\n",
              "        -2.80478154e-03, -2.94089091e-03, -2.73109541e-03, -2.18774694e-03,\n",
              "        -1.37298819e-03, -3.95733402e-04,  6.00185452e-04,  1.45578277e-03,\n",
              "         2.02636137e-03,  2.21063753e-03,  1.96971376e-03,  1.33608215e-03,\n",
              "         4.09901555e-04, -6.55042716e-04, -1.66881200e-03, -2.43622988e-03,\n",
              "        -2.79746177e-03, -2.66841450e-03, -2.07222653e-03, -1.14390397e-03,\n",
              "        -9.81210484e-05,  8.28004300e-04,  1.43890812e-03,  1.63070837e-03,\n",
              "         1.40682736e-03,  8.62610123e-04,  1.52696499e-04, -5.47387581e-04,\n",
              "        -1.07988713e-03, -1.34078721e-03, -1.30346580e-03, -1.01972550e-03,\n",
              "        -5.98389782e-04, -1.69205248e-04,  1.57825315e-04,  3.22656252e-04,\n",
              "         3.15758183e-04,  1.58031841e-04, -1.11377491e-04, -4.38346307e-04,\n",
              "        -7.60090077e-04, -1.00947233e-03, -1.12204066e-03, -1.05425433e-03,\n",
              "        -8.05495374e-04, -4.31724684e-04, -3.30000638e-05,  2.80476008e-04,\n",
              "         4.18152900e-04,  3.31741845e-04,  3.43413287e-05, -4.02094637e-04,\n",
              "        -8.71572906e-04, -1.26286394e-03, -1.48381513e-03, -1.47993916e-03,\n",
              "        -1.24468991e-03, -8.16695723e-04, -2.71657661e-04,  2.85704279e-04,\n",
              "         7.32843046e-04,  9.49403140e-04,  8.50145924e-04,  4.25807154e-04,\n",
              "        -2.32477874e-04, -9.46205160e-04, -1.49901892e-03, -1.71175699e-03,\n",
              "        -1.51010203e-03, -9.53910104e-04, -2.16194750e-04,  4.79556841e-04,\n",
              "         9.35690030e-04,  1.03661958e-03,  7.70393802e-04,  2.21827046e-04,\n",
              "        -4.58446338e-04, -1.09650956e-03, -1.53828872e-03, -1.68637275e-03,\n",
              "        -1.51939734e-03, -1.09172364e-03, -5.15985767e-04,  6.78093104e-05,\n",
              "         5.21761310e-04,  7.31759868e-04,  6.32024046e-04,  2.30648381e-04,\n",
              "        -3.80903495e-04, -1.04405206e-03, -1.57575525e-03, -1.82598571e-03,\n",
              "        -1.72893401e-03, -1.33029661e-03, -7.72153876e-04, -2.37185395e-04,\n",
              "         1.17781305e-04,  2.09176101e-04,  4.36518746e-05, -2.93859044e-04,\n",
              "        -6.76704500e-04, -9.82857367e-04, -1.13065963e-03, -1.09434155e-03,\n",
              "        -8.97047411e-04, -5.92307425e-04, -2.49813094e-04,  5.44476496e-05,\n",
              "         2.48185297e-04,  2.76269296e-04,  1.19288102e-04, -1.92487635e-04,\n",
              "        -5.81307491e-04, -9.42543912e-04, -1.18125462e-03, -1.24935842e-03,\n",
              "        -1.16141008e-03, -9.83793274e-04, -8.03500577e-04, -6.89528512e-04,\n",
              "        -6.66456707e-04, -7.08376718e-04, -7.54032130e-04, -7.37593832e-04,\n",
              "        -6.21080368e-04, -4.16338149e-04, -1.84016357e-04, -1.05943376e-05,\n",
              "         2.33356871e-05, -1.29375493e-04, -4.69205837e-04, -9.50093549e-04,\n",
              "        -1.49135363e-03, -1.99552625e-03, -2.36486918e-03, -2.51605029e-03,\n",
              "        -2.39895928e-03, -2.01812643e-03, -1.44259458e-03, -7.95428526e-04,\n",
              "        -2.21668393e-04,  1.52736391e-04,  2.58596666e-04,  1.04356887e-04,\n",
              "        -2.31136927e-04, -6.29823566e-04, -9.76004065e-04, -1.19402198e-03,\n",
              "        -1.27277402e-03, -1.26708181e-03, -1.27675687e-03, -1.40867469e-03,\n",
              "        -1.73258849e-03, -2.25299639e-03, -2.90551443e-03, -3.57084393e-03,\n",
              "        -4.09971175e-03, -4.34905528e-03, -4.22476104e-03, -3.71334348e-03,\n",
              "        -2.88862790e-03, -1.89725169e-03, -9.33060140e-04, -1.98240078e-04,\n",
              "         1.41866095e-04, -1.07583204e-05, -6.80402325e-04, -1.82532970e-03,\n",
              "        -3.34526753e-03, -5.09657498e-03, -6.91339595e-03, -8.61382360e-03,\n",
              "        -9.99650860e-03, -1.08444226e-02, -1.09368480e-02, -1.00668054e-02,\n",
              "        -8.06884604e-03, -4.84765743e-03, -4.02356923e-04,  5.15326301e-03,\n",
              "         1.15782814e-02,  1.84926844e-02,  2.53837644e-02,  3.16517252e-02,\n",
              "         3.66823803e-02,  3.99296041e-02,  4.10015423e-02,  3.97365981e-02]),\n",
              " 'name': 'orn_control',\n",
              " 'nlfun': (array([-6.88671304, -6.68214853, -6.47758402, -6.27301952, -6.06845501,\n",
              "         -5.8638905 , -5.65932599, -5.45476148, -5.25019697, -5.04563246,\n",
              "         -4.84106795, -4.63650344, -4.43193893, -4.22737442, -4.02280991,\n",
              "         -3.8182454 , -3.61368089, -3.40911638, -3.20455187, -2.99998737,\n",
              "         -2.79542286, -2.59085835, -2.38629384, -2.18172933, -1.97716482,\n",
              "         -1.77260031, -1.5680358 , -1.36347129, -1.15890678, -0.95434227,\n",
              "         -0.74977776, -0.54521325, -0.34064874, -0.13608423,  0.06848028,\n",
              "          0.27304479,  0.47760929,  0.6821738 ,  0.88673831,  1.09130282,\n",
              "          1.29586733,  1.50043184,  1.70499635,  1.90956086,  2.11412537,\n",
              "          2.31868988,  2.52325439,  2.7278189 ,  2.93238341,  3.13694792,\n",
              "          3.34151243,  3.54607694,  3.75064145,  3.95520595,  4.15977046,\n",
              "          4.36433497,  4.56889948,  4.77346399,  4.9780285 ,  5.18259301,\n",
              "          5.38715752,  5.59172203,  5.79628654,  6.00085105,  6.20541556,\n",
              "          6.40998007,  6.61454458,  6.81910909,  7.0236736 ,  7.2282381 ,\n",
              "          7.43280261,  7.63736712,  7.84193163,  8.04649614,  8.25106065,\n",
              "          8.45562516,  8.66018967,  8.86475418,  9.06931869,  9.2738832 ,\n",
              "          9.47844771,  9.68301222,  9.88757673, 10.09214124, 10.29670575,\n",
              "         10.50127026, 10.70583476, 10.91039927, 11.11496378, 11.31952829,\n",
              "         11.5240928 , 11.72865731, 11.93322182, 12.13778633, 12.34235084,\n",
              "         12.54691535, 12.75147986, 12.95604437, 13.16060888, 13.36517339]),\n",
              "  array([ 0.58735444,  0.5869315 ,  0.54463741,  0.5045804 ,  0.53685585,\n",
              "          0.57312293,  0.68523101,  0.79083323,  0.81000065,  0.8320203 ,\n",
              "          0.88287911,  0.94071922,  1.05504439,  1.16922372,  1.28242711,\n",
              "          1.41023943,  1.62083565,  1.79317674,  1.77874276,  1.79912748,\n",
              "          1.96794977,  2.09964632,  2.09167938,  2.16982239,  2.53624652,\n",
              "          2.83605931,  2.93603808,  3.08787937,  3.37994153,  3.66954791,\n",
              "          3.95314186,  4.24113123,  4.53890395,  4.81268733,  5.03776508,\n",
              "          5.28791966,  5.58464554,  5.88051617,  6.17493059,  6.46104548,\n",
              "          6.73417908,  7.01728308,  7.31473473,  7.57236454,  7.77720723,\n",
              "          8.12132621,  8.63567175,  9.1455271 ,  9.65031905, 10.04492065,\n",
              "         10.32483433, 10.59564512, 10.85770999, 11.2899014 , 11.87295973,\n",
              "         12.33421502, 12.69581329, 13.07578675, 13.46962219, 13.84038768,\n",
              "         14.19512151, 14.57261329, 14.96465524, 15.47500872, 16.05484676,\n",
              "         16.81795631, 17.6797505 , 18.02247587, 18.10954048, 18.44322072,\n",
              "         18.88769928, 19.52391101, 20.23843629, 20.64789598, 20.94452319,\n",
              "         21.35479257, 21.80294269, 22.27767984, 22.76035858, 23.18521541,\n",
              "         23.59470185, 23.6577229 , 23.63947429, 24.34861683, 25.2067431 ,\n",
              "         25.30517287, 25.26953856, 26.23148129, 27.34248726, 26.98934403,\n",
              "         26.45523853, 26.70402457, 27.03023944, 29.3497336 , 31.81925954,\n",
              "         30.41450518, 28.80584133, 30.35211822, 31.9959706 , 32.01240913])),\n",
              " 'window_length':                    rmse\n",
              "                     max\n",
              " window_length          \n",
              " 100           -0.059990\n",
              " 200           -0.052058\n",
              " 400           -0.066563\n",
              " 800           -0.067494\n",
              " 1000          -0.067553\n",
              " 1200          -0.067582}"
            ]
          },
          "metadata": {
            "tags": []
          },
          "execution_count": 51
        }
      ]
    }
  ]
}