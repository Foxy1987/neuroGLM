{
  "nbformat": 4,
  "nbformat_minor": 0,
  "metadata": {
    "colab": {
      "name": "how_to_find_optimal_filter_length.ipynb",
      "provenance": [],
      "collapsed_sections": [],
      "authorship_tag": "ABX9TyPnb0+558s8RMhI37bn4/Kr",
      "include_colab_link": true
    },
    "kernelspec": {
      "name": "python3",
      "display_name": "Python 3"
    }
  },
  "cells": [
    {
      "cell_type": "markdown",
      "metadata": {
        "id": "view-in-github",
        "colab_type": "text"
      },
      "source": [
        "<a href=\"https://colab.research.google.com/github/davidfox87/neuro_encoding_models/blob/master/how_to_find_optimal_filter_length.ipynb\" target=\"_parent\"><img src=\"https://colab.research.google.com/assets/colab-badge.svg\" alt=\"Open In Colab\"/></a>"
      ]
    },
    {
      "cell_type": "code",
      "metadata": {
        "id": "8cDH6CXrKbxM",
        "outputId": "459f929d-0c98-49d0-e2df-8bdb4f76fe8e",
        "colab": {
          "base_uri": "https://localhost:8080/",
          "height": 156
        }
      },
      "source": [
        "#@title Clone the github repository \n",
        "!git clone https://github.com/davidfox87/neuro_encoding_models\n",
        "%cd neuro_encoding_models/\n"
      ],
      "execution_count": 13,
      "outputs": [
        {
          "output_type": "stream",
          "text": [
            "Cloning into 'neuro_encoding_models'...\n",
            "remote: Enumerating objects: 385, done.\u001b[K\n",
            "remote: Counting objects: 100% (385/385), done.\u001b[K\n",
            "remote: Compressing objects: 100% (283/283), done.\u001b[K\n",
            "remote: Total 385 (delta 211), reused 223 (delta 99), pack-reused 0\u001b[K\n",
            "Receiving objects: 100% (385/385), 6.08 MiB | 11.44 MiB/s, done.\n",
            "Resolving deltas: 100% (211/211), done.\n",
            "/content/neuroGLM/neuro_encoding_models/neuro_encoding_models\n"
          ],
          "name": "stdout"
        }
      ]
    },
    {
      "cell_type": "code",
      "metadata": {
        "id": "401Ow1maLJuz"
      },
      "source": [
        "#@title add package to google colab\n",
        "import sys, os\n",
        "sys.path.append(os.getcwd())"
      ],
      "execution_count": 70,
      "outputs": []
    },
    {
      "cell_type": "code",
      "metadata": {
        "id": "jomKiaiBLOP0"
      },
      "source": [
        "import pandas as pd\n",
        "import numpy as np\n",
        "from sklearn.base import BaseEstimator, TransformerMixin\n",
        "from sklearn.pipeline import Pipeline\n",
        "from sklearn.model_selection import GridSearchCV, TimeSeriesSplit\n",
        "from sklearn.linear_model import Ridge\n",
        "import utils.read as io\n",
        "from sklearn.preprocessing import StandardScaler, MinMaxScaler\n",
        "from sklearn.model_selection import train_test_split\n",
        "from matplotlib import pyplot as plt\n",
        "from glmtools.fit import fit_nlin_hist1d"
      ],
      "execution_count": 71,
      "outputs": []
    },
    {
      "cell_type": "code",
      "metadata": {
        "id": "KwJSMBqbLUvd"
      },
      "source": [
        "\n",
        "def series_to_supervised(data, n_in=1, n_out=1, dropnan=True):\n",
        "\t\"\"\"\n",
        "    Frame a time series as a supervised learning dataset.\n",
        "    Arguments:\n",
        "        data: Sequence of observations as a list or NumPy array.\n",
        "        n_in: Number of lag observations as input (X).\n",
        "        n_out: Number of observations as output (y).\n",
        "        dropnan: Boolean whether or not to drop rows with NaN values.\n",
        "    Returns:\n",
        "        Pandas DataFrame of series framed for supervised learning.\n",
        "    \"\"\"\n",
        "\tn_vars = 1 if type(data) is list else data.shape[1]\n",
        "\tdf = pd.DataFrame(data)\n",
        "\tcols, names = list(), list()\n",
        "\t# input sequence (t-n, ... t-1)\n",
        "\tfor i in range(n_in, 0, -1):\n",
        "\t\tcols.append(df.shift(i))\n",
        "\t\tnames += [('var%d(t-%d)' % (j + 1, i)) for j in range(n_vars)]\n",
        "\t# forecast sequence (t, t+1, ... t+n)\n",
        "\tfor i in range(0, n_out):\n",
        "\t\tcols.append(df.shift(-i))\n",
        "\t\tif i == 0:\n",
        "\t\t\tnames += [('var%d(t)' % (j + 1)) for j in range(n_vars)]\n",
        "\t\telse:\n",
        "\t\t\tnames += [('var%d(t+%d)' % (j + 1, i)) for j in range(n_vars)]\n",
        "\t# put it all together\n",
        "\tagg = pd.concat(cols, axis=1)\n",
        "\tagg.columns = names\n",
        "\t# drop rows with NaN values\n",
        "\tif dropnan:\n",
        "\t\tagg = agg.fillna(0)\n",
        "\t\t# agg.dropna(inplace=True)\n",
        "\treturn agg\n"
      ],
      "execution_count": 72,
      "outputs": []
    },
    {
      "cell_type": "code",
      "metadata": {
        "id": "3Dt12tDwLX1G"
      },
      "source": [
        "\n",
        "# All you need in a Pipeline is any object with a fit and transform method\n",
        "# that returns an array and takes the right positional arguments\n",
        "# (array x, one-d optional array y)\n",
        "\n",
        "class InsertLags(BaseEstimator, TransformerMixin):\n",
        "\t\"\"\"\n",
        "    Automatically Insert Lags\n",
        "    \"\"\"\n",
        "\n",
        "\tdef __init__(self, lag=1):\n",
        "\t\tself.lag = lag\n",
        "\n",
        "\tdef fit(self, X, y=None):\n",
        "\t\treturn self\n",
        "\n",
        "\tdef transform(self, X, y=None):\n",
        "\t\tX = series_to_supervised(X, n_in=self.lag)\n",
        "\t\treturn X.values\n",
        "\n"
      ],
      "execution_count": 73,
      "outputs": []
    },
    {
      "cell_type": "code",
      "metadata": {
        "id": "fWvv3HXLLc-S"
      },
      "source": [
        "\n",
        "stim, response = io.load_mean_psth('datasets/neural/control_stim_to_orn.mat', 'control_orn')\n"
      ],
      "execution_count": 74,
      "outputs": []
    },
    {
      "cell_type": "code",
      "metadata": {
        "id": "rO15GEvLLq7y"
      },
      "source": [
        ""
      ],
      "execution_count": 74,
      "outputs": []
    },
    {
      "cell_type": "code",
      "metadata": {
        "id": "1WoDsRIxOWyU",
        "outputId": "13cc9b5c-ac24-4b74-d51c-dd3554259c0e",
        "colab": {
          "base_uri": "https://localhost:8080/",
          "height": 52
        }
      },
      "source": [
        "fs = 100\n",
        "# consider splitting by 80/20 train/validation and then make a lot of timeseries splits > 10, then test the mse on test\n",
        "stim_train, stim_test, resp_train, resp_test = train_test_split(stim.T, response,\n",
        "\t \t\t\t\t\t\t\t\t\t\t\t\t\t\t\t\ttest_size=0.001,\n",
        "\t\t\t\t\t\t\t\t\t\t\t\t\t\t\t\t\tshuffle=False,\n",
        "\t\t\t\t\t\t\t\t\t\t\t\t\t\t\t\t\trandom_state=42)\n",
        "scaler = MinMaxScaler([0, 1])\n",
        "resp_train_scaled = scaler.fit_transform(resp_train.reshape(-1, 1))\n",
        "\n",
        "print(stim_train.shape)\n",
        "print(stim_test.shape)"
      ],
      "execution_count": 76,
      "outputs": [
        {
          "output_type": "stream",
          "text": [
            "(2497, 1)\n",
            "(3, 1)\n"
          ],
          "name": "stdout"
        }
      ]
    },
    {
      "cell_type": "code",
      "metadata": {
        "id": "oIltO7CXOpVF",
        "outputId": "f6093ae6-79b9-45e0-bdb9-48950a56ab15",
        "colab": {
          "base_uri": "https://localhost:8080/",
          "height": 506
        }
      },
      "source": [
        "estimators = [('add_lags', InsertLags()),\n",
        "\t\t\t\t  ('scaler', StandardScaler()),\n",
        "\t\t\t\t  ('model', Ridge(fit_intercept=False))]\n",
        "\n",
        "pipe = Pipeline(steps=estimators)\n",
        "alphas = np.logspace(0, 20, num=10, base=2)\n",
        "\n",
        "param_grid = {\n",
        "\t'model__alpha': alphas,\n",
        "\t'add_lags__lag': [1*fs, 2*fs, 4*fs]\n",
        "}\n",
        "\n",
        "tscv = TimeSeriesSplit(n_splits=10)\n",
        "search = GridSearchCV(pipe, param_grid=param_grid, cv=tscv, verbose=1,\n",
        "\t\t\t\t\t\t  scoring='neg_mean_squared_error', n_jobs=-1,\n",
        "\t\t\t\t\t\t  return_train_score=True)\n",
        "\n",
        "search.fit(stim_train.reshape(-1, 1), resp_train_scaled)\n"
      ],
      "execution_count": 77,
      "outputs": [
        {
          "output_type": "stream",
          "text": [
            "Fitting 10 folds for each of 30 candidates, totalling 300 fits\n"
          ],
          "name": "stdout"
        },
        {
          "output_type": "stream",
          "text": [
            "[Parallel(n_jobs=-1)]: Using backend LokyBackend with 2 concurrent workers.\n",
            "[Parallel(n_jobs=-1)]: Done  46 tasks      | elapsed:    4.3s\n",
            "[Parallel(n_jobs=-1)]: Done 196 tasks      | elapsed:   20.0s\n",
            "[Parallel(n_jobs=-1)]: Done 300 out of 300 | elapsed:   45.3s finished\n"
          ],
          "name": "stderr"
        },
        {
          "output_type": "execute_result",
          "data": {
            "text/plain": [
              "GridSearchCV(cv=TimeSeriesSplit(max_train_size=None, n_splits=10),\n",
              "             error_score=nan,\n",
              "             estimator=Pipeline(memory=None,\n",
              "                                steps=[('add_lags', InsertLags(lag=1)),\n",
              "                                       ('scaler',\n",
              "                                        StandardScaler(copy=True,\n",
              "                                                       with_mean=True,\n",
              "                                                       with_std=True)),\n",
              "                                       ('model',\n",
              "                                        Ridge(alpha=1.0, copy_X=True,\n",
              "                                              fit_intercept=False,\n",
              "                                              max_iter=None, normalize=False,\n",
              "                                              random_state=None, solver='auto',\n",
              "                                              tol=0.001))],\n",
              "                                ve...se),\n",
              "             iid='deprecated', n_jobs=-1,\n",
              "             param_grid={'add_lags__lag': [100, 200, 400],\n",
              "                         'model__alpha': array([1.00000000e+00, 4.66611616e+00, 2.17726400e+01, 1.01593667e+02,\n",
              "       4.74047853e+02, 2.21196235e+03, 1.03212732e+04, 4.81602598e+04,\n",
              "       2.24721367e+05, 1.04857600e+06])},\n",
              "             pre_dispatch='2*n_jobs', refit=True, return_train_score=True,\n",
              "             scoring='neg_mean_squared_error', verbose=1)"
            ]
          },
          "metadata": {
            "tags": []
          },
          "execution_count": 77
        }
      ]
    },
    {
      "cell_type": "code",
      "metadata": {
        "id": "deWE74-fO_Dq",
        "outputId": "3b82af8f-3390-4447-a2c9-cb088fea20b1",
        "colab": {
          "base_uri": "https://localhost:8080/",
          "height": 555
        }
      },
      "source": [
        "means = search.cv_results_['mean_test_score']\n",
        "stds = search.cv_results_['std_test_score']\n",
        "for mean, std, params in zip(means, stds, search.cv_results_['params']):\n",
        "\tprint(\"%0.3f (+/-%0.03f) for %r\"\n",
        "\t\t\t  % (mean, std * 2, params))\n",
        "\n",
        "print(\"Best: %f using %s\" % (search.best_score_, search.best_params_))\n",
        "\n",
        "res = [sub['add_lags__lag'] for sub in search.cv_results_['params']]\n",
        "df = pd.DataFrame({'rmse': means, 'window_length': res})\n",
        "df2 = df.groupby(['window_length']).max()"
      ],
      "execution_count": 78,
      "outputs": [
        {
          "output_type": "stream",
          "text": [
            "-0.064 (+/-0.043) for {'add_lags__lag': 100, 'model__alpha': 1.0}\n",
            "-0.062 (+/-0.041) for {'add_lags__lag': 100, 'model__alpha': 4.666116158304467}\n",
            "-0.061 (+/-0.037) for {'add_lags__lag': 100, 'model__alpha': 21.772640002790034}\n",
            "-0.060 (+/-0.034) for {'add_lags__lag': 100, 'model__alpha': 101.59366732596479}\n",
            "-0.062 (+/-0.040) for {'add_lags__lag': 100, 'model__alpha': 474.0478526910928}\n",
            "-0.069 (+/-0.056) for {'add_lags__lag': 100, 'model__alpha': 2211.9623452514425}\n",
            "-0.081 (+/-0.073) for {'add_lags__lag': 100, 'model__alpha': 10321.273240738805}\n",
            "-0.094 (+/-0.081) for {'add_lags__lag': 100, 'model__alpha': 48160.25984288687}\n",
            "-0.102 (+/-0.083) for {'add_lags__lag': 100, 'model__alpha': 224721.36664103606}\n",
            "-0.105 (+/-0.083) for {'add_lags__lag': 100, 'model__alpha': 1048576.0}\n",
            "-0.060 (+/-0.054) for {'add_lags__lag': 200, 'model__alpha': 1.0}\n",
            "-0.055 (+/-0.048) for {'add_lags__lag': 200, 'model__alpha': 4.666116158304467}\n",
            "-0.053 (+/-0.043) for {'add_lags__lag': 200, 'model__alpha': 21.772640002790034}\n",
            "-0.052 (+/-0.040) for {'add_lags__lag': 200, 'model__alpha': 101.59366732596479}\n",
            "-0.055 (+/-0.048) for {'add_lags__lag': 200, 'model__alpha': 474.0478526910928}\n",
            "-0.062 (+/-0.063) for {'add_lags__lag': 200, 'model__alpha': 2211.9623452514425}\n",
            "-0.073 (+/-0.078) for {'add_lags__lag': 200, 'model__alpha': 10321.273240738805}\n",
            "-0.088 (+/-0.085) for {'add_lags__lag': 200, 'model__alpha': 48160.25984288687}\n",
            "-0.100 (+/-0.085) for {'add_lags__lag': 200, 'model__alpha': 224721.36664103606}\n",
            "-0.104 (+/-0.084) for {'add_lags__lag': 200, 'model__alpha': 1048576.0}\n",
            "-0.067 (+/-0.117) for {'add_lags__lag': 400, 'model__alpha': 1.0}\n",
            "-0.080 (+/-0.217) for {'add_lags__lag': 400, 'model__alpha': 4.666116158304467}\n",
            "-0.069 (+/-0.164) for {'add_lags__lag': 400, 'model__alpha': 21.772640002790034}\n",
            "-0.079 (+/-0.225) for {'add_lags__lag': 400, 'model__alpha': 101.59366732596479}\n",
            "-0.107 (+/-0.389) for {'add_lags__lag': 400, 'model__alpha': 474.0478526910928}\n",
            "-0.070 (+/-0.138) for {'add_lags__lag': 400, 'model__alpha': 2211.9623452514425}\n",
            "-0.070 (+/-0.095) for {'add_lags__lag': 400, 'model__alpha': 10321.273240738805}\n",
            "-0.081 (+/-0.089) for {'add_lags__lag': 400, 'model__alpha': 48160.25984288687}\n",
            "-0.095 (+/-0.087) for {'add_lags__lag': 400, 'model__alpha': 224721.36664103606}\n",
            "-0.103 (+/-0.084) for {'add_lags__lag': 400, 'model__alpha': 1048576.0}\n",
            "Best: -0.052058 using {'add_lags__lag': 200, 'model__alpha': 101.59366732596479}\n"
          ],
          "name": "stdout"
        }
      ]
    },
    {
      "cell_type": "code",
      "metadata": {
        "id": "kkawY8qWPIvM",
        "outputId": "65af948f-709c-4964-8653-0f6a30895242",
        "colab": {
          "base_uri": "https://localhost:8080/",
          "height": 282
        }
      },
      "source": [
        "# plot the neg_mean_squared_error as a function of window length\n",
        "plt.figure()\n",
        "plt.plot(df2['rmse'])"
      ],
      "execution_count": 79,
      "outputs": [
        {
          "output_type": "execute_result",
          "data": {
            "text/plain": [
              "[<matplotlib.lines.Line2D at 0x7fd7d11e4ba8>]"
            ]
          },
          "metadata": {
            "tags": []
          },
          "execution_count": 79
        },
        {
          "output_type": "display_data",
          "data": {
            "image/png": "[encoded data removed]",
            "text/plain": [
              "<Figure size 432x288 with 1 Axes>"
            ]
          },
          "metadata": {
            "tags": [],
            "needs_background": "light"
          }
        }
      ]
    },
    {
      "cell_type": "code",
      "metadata": {
        "id": "I1lziLVaPNoe",
        "outputId": "c4722c39-6dec-44b6-a61d-1d054ef7d992",
        "colab": {
          "base_uri": "https://localhost:8080/",
          "height": 173
        }
      },
      "source": [
        "estimators = [('add_lags', InsertLags(search.best_params_['add_lags__lag'])),\n",
        "\t\t\t\t  ('scaler', StandardScaler()),\n",
        "\t\t\t\t  ('model', Ridge(search.best_params_['model__alpha']))]\n",
        "pipe = Pipeline(steps=estimators)\n",
        "\n",
        "# scale the output\n",
        "pipe.fit(stim_train.reshape(-1, 1), resp_train_scaled)\n"
      ],
      "execution_count": 80,
      "outputs": [
        {
          "output_type": "execute_result",
          "data": {
            "text/plain": [
              "Pipeline(memory=None,\n",
              "         steps=[('add_lags', InsertLags(lag=200)),\n",
              "                ('scaler',\n",
              "                 StandardScaler(copy=True, with_mean=True, with_std=True)),\n",
              "                ('model',\n",
              "                 Ridge(alpha=101.59366732596479, copy_X=True,\n",
              "                       fit_intercept=True, max_iter=None, normalize=False,\n",
              "                       random_state=None, solver='auto', tol=0.001))],\n",
              "         verbose=False)"
            ]
          },
          "metadata": {
            "tags": []
          },
          "execution_count": 80
        }
      ]
    },
    {
      "cell_type": "code",
      "metadata": {
        "id": "VX4xBfuVPS3q",
        "outputId": "ae65c364-0b3c-4a30-8b5c-db40d8720d16",
        "colab": {
          "base_uri": "https://localhost:8080/",
          "height": 282
        }
      },
      "source": [
        "plt.figure()\n",
        "w = pipe.named_steps['model'].coef_[0]\n",
        "d = len(w[1:])\n",
        "t = np.arange(-d + 1, 1) * 0.01\n",
        "plt.plot(t, w[1:])\n",
        "plt.axhline(0, color=\".2\", linestyle=\"--\", zorder=1)\n"
      ],
      "execution_count": 81,
      "outputs": [
        {
          "output_type": "execute_result",
          "data": {
            "text/plain": [
              "<matplotlib.lines.Line2D at 0x7fd7d1163dd8>"
            ]
          },
          "metadata": {
            "tags": []
          },
          "execution_count": 81
        },
        {
          "output_type": "display_data",
          "data": {
            "image/png": "[encoded data removed]",
            "text/plain": [
              "<Figure size 432x288 with 1 Axes>"
            ]
          },
          "metadata": {
            "tags": [],
            "needs_background": "light"
          }
        }
      ]
    },
    {
      "cell_type": "code",
      "metadata": {
        "id": "yvqcUYBqPm4H",
        "outputId": "9890dd30-9cf5-47a1-d3ac-cde00066a98b",
        "colab": {
          "base_uri": "https://localhost:8080/",
          "height": 34
        }
      },
      "source": [
        "w = w.reshape(-1, 1)\n",
        "w.shape"
      ],
      "execution_count": 92,
      "outputs": [
        {
          "output_type": "execute_result",
          "data": {
            "text/plain": [
              "(201, 1)"
            ]
          },
          "metadata": {
            "tags": []
          },
          "execution_count": 92
        }
      ]
    },
    {
      "cell_type": "code",
      "metadata": {
        "id": "ctZ7Ly6qPgGh",
        "outputId": "d0b80290-98bf-47f3-fa94-1d6ba480d14a",
        "colab": {
          "base_uri": "https://localhost:8080/",
          "height": 362
        }
      },
      "source": [
        "plt.figure()\n",
        "\n",
        "xx, fnlin, rawfilteroutput = fit_nlin_hist1d(stim_train, resp_train, w, 0.01, 100)\n"
      ],
      "execution_count": 94,
      "outputs": [
        {
          "output_type": "error",
          "ename": "ValueError",
          "evalue": "ignored",
          "traceback": [
            "\u001b[0;31m---------------------------------------------------------------------------\u001b[0m",
            "\u001b[0;31mValueError\u001b[0m                                Traceback (most recent call last)",
            "\u001b[0;32m<ipython-input-94-9aff79c58476>\u001b[0m in \u001b[0;36m<module>\u001b[0;34m()\u001b[0m\n\u001b[1;32m      1\u001b[0m \u001b[0mplt\u001b[0m\u001b[0;34m.\u001b[0m\u001b[0mfigure\u001b[0m\u001b[0;34m(\u001b[0m\u001b[0;34m)\u001b[0m\u001b[0;34m\u001b[0m\u001b[0;34m\u001b[0m\u001b[0m\n\u001b[1;32m      2\u001b[0m \u001b[0;34m\u001b[0m\u001b[0m\n\u001b[0;32m----> 3\u001b[0;31m \u001b[0mxx\u001b[0m\u001b[0;34m,\u001b[0m \u001b[0mfnlin\u001b[0m\u001b[0;34m,\u001b[0m \u001b[0mrawfilteroutput\u001b[0m \u001b[0;34m=\u001b[0m \u001b[0mfit_nlin_hist1d\u001b[0m\u001b[0;34m(\u001b[0m\u001b[0mstim_train\u001b[0m\u001b[0;34m,\u001b[0m \u001b[0mresp_train\u001b[0m\u001b[0;34m,\u001b[0m \u001b[0mw\u001b[0m\u001b[0;34m,\u001b[0m \u001b[0;36m0.01\u001b[0m\u001b[0;34m,\u001b[0m \u001b[0;36m100\u001b[0m\u001b[0;34m)\u001b[0m\u001b[0;34m\u001b[0m\u001b[0;34m\u001b[0m\u001b[0m\n\u001b[0m",
            "\u001b[0;32m/content/neuroGLM/neuro_encoding_models/glmtools/fit.py\u001b[0m in \u001b[0;36mfit_nlin_hist1d\u001b[0;34m(stim, response, filt, dt, nfbins)\u001b[0m\n\u001b[1;32m    211\u001b[0m \u001b[0;34m\u001b[0m\u001b[0m\n\u001b[1;32m    212\u001b[0m \u001b[0;34m\u001b[0m\u001b[0m\n\u001b[0;32m--> 213\u001b[0;31m         \u001b[0;31m# Filter stimulus with model filter\u001b[0m\u001b[0;34m\u001b[0m\u001b[0;34m\u001b[0m\u001b[0;34m\u001b[0m\u001b[0m\n\u001b[0m\u001b[1;32m    214\u001b[0m         \u001b[0mrawfilteroutput\u001b[0m \u001b[0;34m=\u001b[0m \u001b[0msameconv\u001b[0m\u001b[0;34m(\u001b[0m\u001b[0mstim\u001b[0m\u001b[0;34m,\u001b[0m \u001b[0mfilt\u001b[0m\u001b[0;34m)\u001b[0m\u001b[0;34m\u001b[0m\u001b[0;34m\u001b[0m\u001b[0m\n\u001b[1;32m    215\u001b[0m \u001b[0;34m\u001b[0m\u001b[0m\n",
            "\u001b[0;32m/content/neuroGLM/neuro_encoding_models/glmtools/fit.py\u001b[0m in \u001b[0;36msameconv\u001b[0;34m(x, f)\u001b[0m\n\u001b[1;32m    189\u001b[0m         \u001b[0mx\u001b[0m \u001b[0;34m=\u001b[0m \u001b[0mnp\u001b[0m\u001b[0;34m.\u001b[0m\u001b[0masarray\u001b[0m\u001b[0;34m(\u001b[0m\u001b[0;34m[\u001b[0m\u001b[0mx\u001b[0m\u001b[0;34m.\u001b[0m\u001b[0mT\u001b[0m\u001b[0;34m]\u001b[0m\u001b[0;34m)\u001b[0m\u001b[0;34m\u001b[0m\u001b[0;34m\u001b[0m\u001b[0m\n\u001b[1;32m    190\u001b[0m         \u001b[0mf\u001b[0m \u001b[0;34m=\u001b[0m \u001b[0mnp\u001b[0m\u001b[0;34m.\u001b[0m\u001b[0masarray\u001b[0m\u001b[0;34m(\u001b[0m\u001b[0;34m[\u001b[0m\u001b[0mf\u001b[0m\u001b[0;34m.\u001b[0m\u001b[0mT\u001b[0m\u001b[0;34m]\u001b[0m\u001b[0;34m)\u001b[0m\u001b[0;34m\u001b[0m\u001b[0;34m\u001b[0m\u001b[0m\n\u001b[0;32m--> 191\u001b[0;31m         \u001b[0;34m[\u001b[0m\u001b[0mxwid\u001b[0m\u001b[0;34m,\u001b[0m \u001b[0mnx\u001b[0m\u001b[0;34m]\u001b[0m \u001b[0;34m=\u001b[0m \u001b[0mx\u001b[0m\u001b[0;34m.\u001b[0m\u001b[0mshape\u001b[0m\u001b[0;34m\u001b[0m\u001b[0;34m\u001b[0m\u001b[0m\n\u001b[0m\u001b[1;32m    192\u001b[0m         \u001b[0;34m[\u001b[0m\u001b[0mfwid\u001b[0m\u001b[0;34m,\u001b[0m \u001b[0mnf\u001b[0m\u001b[0;34m]\u001b[0m \u001b[0;34m=\u001b[0m \u001b[0mf\u001b[0m\u001b[0;34m.\u001b[0m\u001b[0mshape\u001b[0m\u001b[0;34m\u001b[0m\u001b[0;34m\u001b[0m\u001b[0m\n\u001b[1;32m    193\u001b[0m         \u001b[0ma\u001b[0m \u001b[0;34m=\u001b[0m \u001b[0mnp\u001b[0m\u001b[0;34m.\u001b[0m\u001b[0mconcatenate\u001b[0m\u001b[0;34m(\u001b[0m\u001b[0;34m(\u001b[0m\u001b[0mnp\u001b[0m\u001b[0;34m.\u001b[0m\u001b[0mzeros\u001b[0m\u001b[0;34m(\u001b[0m\u001b[0mnf\u001b[0m \u001b[0;34m-\u001b[0m \u001b[0;36m1\u001b[0m\u001b[0;34m)\u001b[0m\u001b[0;34m,\u001b[0m \u001b[0mx\u001b[0m\u001b[0;34m)\u001b[0m\u001b[0;34m,\u001b[0m \u001b[0maxis\u001b[0m\u001b[0;34m=\u001b[0m\u001b[0;32mNone\u001b[0m\u001b[0;34m)\u001b[0m\u001b[0;34m\u001b[0m\u001b[0;34m\u001b[0m\u001b[0m\n",
            "\u001b[0;31mValueError\u001b[0m: too many values to unpack (expected 2)"
          ]
        },
        {
          "output_type": "display_data",
          "data": {
            "text/plain": [
              "<Figure size 432x288 with 0 Axes>"
            ]
          },
          "metadata": {
            "tags": []
          }
        }
      ]
    }
  ]
}