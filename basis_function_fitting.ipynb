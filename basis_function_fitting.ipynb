{
  "nbformat": 4,
  "nbformat_minor": 0,
  "metadata": {
    "colab": {
      "name": "basis_function_fitting.ipynb",
      "provenance": [],
      "authorship_tag": "ABX9TyO/bjiisx8XrBWFRPzfs4aw",
      "include_colab_link": true
    },
    "kernelspec": {
      "name": "python3",
      "display_name": "Python 3"
    }
  },
  "cells": [
    {
      "cell_type": "markdown",
      "metadata": {
        "id": "view-in-github",
        "colab_type": "text"
      },
      "source": [
        "<a href=\"https://colab.research.google.com/github/Foxy1987/neuroGLM/blob/master/basis_function_fitting.ipynb\" target=\"_parent\"><img src=\"https://colab.research.google.com/assets/colab-badge.svg\" alt=\"Open In Colab\"/></a>"
      ]
    },
    {
      "cell_type": "markdown",
      "metadata": {
        "id": "lVfs0qEA_9pB",
        "colab_type": "text"
      },
      "source": [
        "# Fitting stimulus temporal filters to vector space spanned by raised cosines\n",
        "__Content creator:__ David Fox\n"
      ]
    },
    {
      "cell_type": "markdown",
      "metadata": {
        "id": "aMZDNnNeATWU",
        "colab_type": "text"
      },
      "source": [
        "This tutorial will explain how to import trial-based experimental data, and build appropriate features spaces to do regression analysis. The ultimate output of the regression is a set of weights on the coefficients that define a stimulus filter.\n",
        "\n",
        "Here we will find filter weights by fitting filters to a low-dimensional space spanned by raised cosines. \n",
        "The time axis is scaled logarithmically so that the cosines are more narrow near time lag 0 but is more smooth at longer time scales. \n",
        "\n",
        "$$\n",
        "B_i(t) = \\frac{(\\cos(\\log[t + \\Psi] + \\phi_i) + 1}{2}\n",
        "$$\n",
        "\n",
        "for $t$ such that $\\log(t + \\Psi) \\in [\\phi_i - \\pi, \\phi_i + \\pi]$ and 0 elsewhere ( so each basis vector looks like a single raised bump). The \"bumps\" are normalized so that they sum to 1 and orthogonalized. The resulting basis can represent fine temporal structure near 0 time lag and longer smooth structure at longer time lags. \n",
        "\n",
        "By fitting to a basis of raised cosines, we can simplify the fitting procedure. We ensure that the function is convex and can thus use scipy.optimize.minimize to compute estimates for the filter weights. In addition, by fitting to a basis functions, we can denoise by only specifying the temporal structure we care about.\n"
      ]
    },
    {
      "cell_type": "markdown",
      "metadata": {
        "id": "Vhz6_OZTFKsq",
        "colab_type": "text"
      },
      "source": [
        "# Import package and libraries"
      ]
    },
    {
      "cell_type": "code",
      "metadata": {
        "id": "3bSnghfbFj-G",
        "colab_type": "code",
        "colab": {
          "base_uri": "https://localhost:8080/",
          "height": 156
        },
        "outputId": "48368087-a76f-4fee-d068-c5865a4ae915"
      },
      "source": [
        "#@title Clone the github repository \n",
        "!git clone https://github.com/Foxy1987/neuroGLM\n",
        "%cd neuroGLM"
      ],
      "execution_count": 77,
      "outputs": [
        {
          "output_type": "stream",
          "text": [
            "Cloning into 'neuroGLM'...\n",
            "remote: Enumerating objects: 221, done.\u001b[K\n",
            "remote: Counting objects:   0% (1/221)\u001b[K\rremote: Counting objects:   1% (3/221)\u001b[K\rremote: Counting objects:   2% (5/221)\u001b[K\rremote: Counting objects:   3% (7/221)\u001b[K\rremote: Counting objects:   4% (9/221)\u001b[K\rremote: Counting objects:   5% (12/221)\u001b[K\rremote: Counting objects:   6% (14/221)\u001b[K\rremote: Counting objects:   7% (16/221)\u001b[K\rremote: Counting objects:   8% (18/221)\u001b[K\rremote: Counting objects:   9% (20/221)\u001b[K\rremote: Counting objects:  10% (23/221)\u001b[K\rremote: Counting objects:  11% (25/221)\u001b[K\rremote: Counting objects:  12% (27/221)\u001b[K\rremote: Counting objects:  13% (29/221)\u001b[K\rremote: Counting objects:  14% (31/221)\u001b[K\rremote: Counting objects:  15% (34/221)\u001b[K\rremote: Counting objects:  16% (36/221)\u001b[K\rremote: Counting objects:  17% (38/221)\u001b[K\rremote: Counting objects:  18% (40/221)\u001b[K\rremote: Counting objects:  19% (42/221)\u001b[K\rremote: Counting objects:  20% (45/221)\u001b[K\rremote: Counting objects:  21% (47/221)\u001b[K\rremote: Counting objects:  22% (49/221)\u001b[K\rremote: Counting objects:  23% (51/221)\u001b[K\rremote: Counting objects:  24% (54/221)\u001b[K\rremote: Counting objects:  25% (56/221)\u001b[K\rremote: Counting objects:  26% (58/221)\u001b[K\rremote: Counting objects:  27% (60/221)\u001b[K\rremote: Counting objects:  28% (62/221)\u001b[K\rremote: Counting objects:  29% (65/221)\u001b[K\rremote: Counting objects:  30% (67/221)\u001b[K\rremote: Counting objects:  31% (69/221)\u001b[K\rremote: Counting objects:  32% (71/221)\u001b[K\rremote: Counting objects:  33% (73/221)\u001b[K\rremote: Counting objects:  34% (76/221)\u001b[K\rremote: Counting objects:  35% (78/221)\u001b[K\rremote: Counting objects:  36% (80/221)\u001b[K\rremote: Counting objects:  37% (82/221)\u001b[K\rremote: Counting objects:  38% (84/221)\u001b[K\rremote: Counting objects:  39% (87/221)\u001b[K\rremote: Counting objects:  40% (89/221)\u001b[K\rremote: Counting objects:  41% (91/221)\u001b[K\rremote: Counting objects:  42% (93/221)\u001b[K\rremote: Counting objects:  43% (96/221)\u001b[K\rremote: Counting objects:  44% (98/221)\u001b[K\rremote: Counting objects:  45% (100/221)\u001b[K\rremote: Counting objects:  46% (102/221)\u001b[K\rremote: Counting objects:  47% (104/221)\u001b[K\rremote: Counting objects:  48% (107/221)\u001b[K\rremote: Counting objects:  49% (109/221)\u001b[K\rremote: Counting objects:  50% (111/221)\u001b[K\rremote: Counting objects:  51% (113/221)\u001b[K\rremote: Counting objects:  52% (115/221)\u001b[K\rremote: Counting objects:  53% (118/221)\u001b[K\rremote: Counting objects:  54% (120/221)\u001b[K\rremote: Counting objects:  55% (122/221)\u001b[K\rremote: Counting objects:  56% (124/221)\u001b[K\rremote: Counting objects:  57% (126/221)\u001b[K\rremote: Counting objects:  58% (129/221)\u001b[K\rremote: Counting objects:  59% (131/221)\u001b[K\rremote: Counting objects:  60% (133/221)\u001b[K\rremote: Counting objects:  61% (135/221)\u001b[K\rremote: Counting objects:  62% (138/221)\u001b[K\rremote: Counting objects:  63% (140/221)\u001b[K\rremote: Counting objects:  64% (142/221)\u001b[K\rremote: Counting objects:  65% (144/221)\u001b[K\rremote: Counting objects:  66% (146/221)\u001b[K\rremote: Counting objects:  67% (149/221)\u001b[K\rremote: Counting objects:  68% (151/221)\u001b[K\rremote: Counting objects:  69% (153/221)\u001b[K\rremote: Counting objects:  70% (155/221)\u001b[K\rremote: Counting objects:  71% (157/221)\u001b[K\rremote: Counting objects:  72% (160/221)\u001b[K\rremote: Counting objects:  73% (162/221)\u001b[K\rremote: Counting objects:  74% (164/221)\u001b[K\rremote: Counting objects:  75% (166/221)\u001b[K\rremote: Counting objects:  76% (168/221)\u001b[K\rremote: Counting objects:  77% (171/221)\u001b[K\rremote: Counting objects:  78% (173/221)\u001b[K\rremote: Counting objects:  79% (175/221)\u001b[K\rremote: Counting objects:  80% (177/221)\u001b[K\rremote: Counting objects:  81% (180/221)\u001b[K\rremote: Counting objects:  82% (182/221)\u001b[K\rremote: Counting objects:  83% (184/221)\u001b[K\rremote: Counting objects:  84% (186/221)\u001b[K\rremote: Counting objects:  85% (188/221)\u001b[K\rremote: Counting objects:  86% (191/221)\u001b[K\rremote: Counting objects:  87% (193/221)\u001b[K\rremote: Counting objects:  88% (195/221)\u001b[K\rremote: Counting objects:  89% (197/221)\u001b[K\rremote: Counting objects:  90% (199/221)\u001b[K\rremote: Counting objects:  91% (202/221)\u001b[K\rremote: Counting objects:  92% (204/221)\u001b[K\rremote: Counting objects:  93% (206/221)\u001b[K\rremote: Counting objects:  94% (208/221)\u001b[K\rremote: Counting objects:  95% (210/221)\u001b[K\rremote: Counting objects:  96% (213/221)\u001b[K\rremote: Counting objects:  97% (215/221)\u001b[K\rremote: Counting objects:  98% (217/221)\u001b[K\rremote: Counting objects:  99% (219/221)\u001b[K\rremote: Counting objects: 100% (221/221)\u001b[K\rremote: Counting objects: 100% (221/221), done.\u001b[K\n",
            "remote: Compressing objects: 100% (167/167), done.\u001b[K\n",
            "remote: Total 221 (delta 109), reused 132 (delta 51), pack-reused 0\u001b[K\n",
            "Receiving objects: 100% (221/221), 4.05 MiB | 28.39 MiB/s, done.\n",
            "Resolving deltas: 100% (109/109), done.\n",
            "/content/neuroGLM/neuroGLM/neuroGLM/neuroGLM\n"
          ],
          "name": "stdout"
        }
      ]
    },
    {
      "cell_type": "code",
      "metadata": {
        "id": "9II2LpqPFXWJ",
        "colab_type": "code",
        "colab": {}
      },
      "source": [
        "#@title add package to google colab\n",
        "import sys, os\n",
        "sys.path.append(os.getcwd())"
      ],
      "execution_count": 78,
      "outputs": []
    },
    {
      "cell_type": "code",
      "metadata": {
        "id": "Vfw6EAm1Fx_v",
        "colab_type": "code",
        "colab": {}
      },
      "source": [
        "#@title import modules\n",
        "import utils.read as io\n",
        "import numpy as np\n",
        "from matplotlib import pyplot as plt\n",
        "from glmtools.make_xdsgn import Experiment, DesignSpec\n",
        "from basisFactory.bases import Basis, RaisedCosine\n",
        "from scipy.optimize import minimize\n",
        "from glmtools.fit import x_proj\n",
        "from utils import plot as nmaplt\n",
        "import pickle"
      ],
      "execution_count": 79,
      "outputs": []
    },
    {
      "cell_type": "markdown",
      "metadata": {
        "id": "u1Sn2qBWHKTH",
        "colab_type": "text"
      },
      "source": [
        "# Read in stimulus and behavior structure\n",
        "The read function takes as arguments a matlab structure, whose fields are:\n",
        "the behavior parameters you extracted from your experiment and \n",
        "\n",
        "1.   behavior parameters you extracted from your experiment\n",
        "2.   Stimulus\n",
        "\n",
        "each field is an $M$X$N$ where $M$ is the number of time points and $N$ is the number of trials.\n",
        "\n",
        "\n"
      ]
    },
    {
      "cell_type": "code",
      "metadata": {
        "id": "3HnVTXTbIWiF",
        "colab_type": "code",
        "colab": {}
      },
      "source": [
        "#behavior_par = \"vmoves\"\n",
        "behavior_par = \"vymoves\"\n",
        "#behavior_par = \"angvturns\""
      ],
      "execution_count": 80,
      "outputs": []
    },
    {
      "cell_type": "code",
      "metadata": {
        "id": "cqTgMNXhINzi",
        "colab_type": "code",
        "colab": {}
      },
      "source": [
        "stim, response = io.load_behavior('../datasets/behavior/control_behavior.mat', 30., 55., behavior_par)"
      ],
      "execution_count": 81,
      "outputs": []
    },
    {
      "cell_type": "markdown",
      "metadata": {
        "id": "pU0fVu7xIjLF",
        "colab_type": "text"
      },
      "source": [
        "# Create an experiment object \n",
        "Now we will make an experiment object to hold response variable and to register the types of regressors in the experiment"
      ]
    },
    {
      "cell_type": "code",
      "metadata": {
        "id": "WTwvXd28IlCX",
        "colab_type": "code",
        "colab": {}
      },
      "source": [
        "expt = Experiment(0.02, 85, stim=stim, response=response)\n",
        "\n",
        "# register continuous regressor\n",
        "expt.registerContinuous('stim')"
      ],
      "execution_count": 82,
      "outputs": []
    },
    {
      "cell_type": "markdown",
      "metadata": {
        "id": "P0WPI5axIxW2",
        "colab_type": "text"
      },
      "source": [
        "# Create a design specification object\n",
        "This object holds all the information about how to construct the design matrix for each regressor. The function compile_design_matrix_from_trial_indices() stacks design matrices for a given regressor and for each trial on top of one another. "
      ]
    },
    {
      "cell_type": "code",
      "metadata": {
        "id": "y1UY0G5OI9zx",
        "colab_type": "code",
        "colab": {}
      },
      "source": [
        "trial_inds = list(range(response.shape[1]))\n",
        "dspec = DesignSpec(expt, trial_inds)"
      ],
      "execution_count": 83,
      "outputs": []
    },
    {
      "cell_type": "markdown",
      "metadata": {
        "id": "P65Gh9qMJbe6",
        "colab_type": "text"
      },
      "source": [
        "# make a set of raised-cosine basis functions"
      ]
    },
    {
      "cell_type": "code",
      "metadata": {
        "id": "lESOrlEyJc5m",
        "colab_type": "code",
        "colab": {}
      },
      "source": [
        "# make a set of basis functions\n",
        "Fs = 50\n",
        "nkt = 2*Fs\n",
        "cos_basis = RaisedCosine(100, 3, 1, 'stim')\n",
        "cos_basis.makeNonlinearRaisedCosStim(expt.dtSp, [5, nkt/2-10], 1, nkt)\n",
        "\n",
        "# register the regressor with the basis \n",
        "dspec.addRegressorContinuous(basis=cos_basis)"
      ],
      "execution_count": 84,
      "outputs": []
    },
    {
      "cell_type": "markdown",
      "metadata": {
        "id": "h6zIXE1rJwhF",
        "colab_type": "text"
      },
      "source": [
        "# Build the design matrix and view the contents\n",
        "Now we use the information about each regressor included in the experiment and the number of trials to construct a design matrix"
      ]
    },
    {
      "cell_type": "code",
      "metadata": {
        "id": "axiroNi0JyGn",
        "colab_type": "code",
        "colab": {
          "base_uri": "https://localhost:8080/",
          "height": 1000
        },
        "outputId": "8c51e700-4d75-4592-d088-9024ea15b308"
      },
      "source": [
        "dm, X, y = dspec.compileDesignMatrixFromTrialIndices()"
      ],
      "execution_count": 85,
      "outputs": [
        {
          "output_type": "stream",
          "text": [
            "forming design matrix from trial indices\n",
            "convolving padded stimulus with raised cosine basis functions\n",
            "forming design matrix from trial indices\n",
            "convolving padded stimulus with raised cosine basis functions\n",
            "forming design matrix from trial indices\n",
            "convolving padded stimulus with raised cosine basis functions\n",
            "forming design matrix from trial indices\n",
            "convolving padded stimulus with raised cosine basis functions\n",
            "forming design matrix from trial indices\n",
            "convolving padded stimulus with raised cosine basis functions\n",
            "forming design matrix from trial indices\n",
            "convolving padded stimulus with raised cosine basis functions\n",
            "forming design matrix from trial indices\n",
            "convolving padded stimulus with raised cosine basis functions\n",
            "forming design matrix from trial indices\n",
            "convolving padded stimulus with raised cosine basis functions\n",
            "forming design matrix from trial indices\n",
            "convolving padded stimulus with raised cosine basis functions\n",
            "forming design matrix from trial indices\n",
            "convolving padded stimulus with raised cosine basis functions\n",
            "forming design matrix from trial indices\n",
            "convolving padded stimulus with raised cosine basis functions\n",
            "forming design matrix from trial indices\n",
            "convolving padded stimulus with raised cosine basis functions\n",
            "forming design matrix from trial indices\n",
            "convolving padded stimulus with raised cosine basis functions\n",
            "forming design matrix from trial indices\n",
            "convolving padded stimulus with raised cosine basis functions\n",
            "forming design matrix from trial indices\n",
            "convolving padded stimulus with raised cosine basis functions\n",
            "forming design matrix from trial indices\n",
            "convolving padded stimulus with raised cosine basis functions\n",
            "forming design matrix from trial indices\n",
            "convolving padded stimulus with raised cosine basis functions\n",
            "forming design matrix from trial indices\n",
            "convolving padded stimulus with raised cosine basis functions\n",
            "forming design matrix from trial indices\n",
            "convolving padded stimulus with raised cosine basis functions\n",
            "forming design matrix from trial indices\n",
            "convolving padded stimulus with raised cosine basis functions\n",
            "forming design matrix from trial indices\n",
            "convolving padded stimulus with raised cosine basis functions\n",
            "forming design matrix from trial indices\n",
            "convolving padded stimulus with raised cosine basis functions\n",
            "forming design matrix from trial indices\n",
            "convolving padded stimulus with raised cosine basis functions\n",
            "forming design matrix from trial indices\n",
            "convolving padded stimulus with raised cosine basis functions\n",
            "forming design matrix from trial indices\n",
            "convolving padded stimulus with raised cosine basis functions\n",
            "forming design matrix from trial indices\n",
            "convolving padded stimulus with raised cosine basis functions\n",
            "forming design matrix from trial indices\n",
            "convolving padded stimulus with raised cosine basis functions\n",
            "forming design matrix from trial indices\n",
            "convolving padded stimulus with raised cosine basis functions\n",
            "forming design matrix from trial indices\n",
            "convolving padded stimulus with raised cosine basis functions\n",
            "forming design matrix from trial indices\n",
            "convolving padded stimulus with raised cosine basis functions\n",
            "forming design matrix from trial indices\n",
            "convolving padded stimulus with raised cosine basis functions\n",
            "forming design matrix from trial indices\n",
            "convolving padded stimulus with raised cosine basis functions\n",
            "forming design matrix from trial indices\n",
            "convolving padded stimulus with raised cosine basis functions\n",
            "forming design matrix from trial indices\n",
            "convolving padded stimulus with raised cosine basis functions\n",
            "forming design matrix from trial indices\n",
            "convolving padded stimulus with raised cosine basis functions\n",
            "forming design matrix from trial indices\n",
            "convolving padded stimulus with raised cosine basis functions\n",
            "forming design matrix from trial indices\n",
            "convolving padded stimulus with raised cosine basis functions\n"
          ],
          "name": "stdout"
        }
      ]
    },
    {
      "cell_type": "markdown",
      "metadata": {
        "id": "kU411__nJ7lr",
        "colab_type": "text"
      },
      "source": [
        "# find weights in the new basis using scipy.optimize.minimize"
      ]
    },
    {
      "cell_type": "code",
      "metadata": {
        "id": "RPwJGyfbKO7Q",
        "colab_type": "code",
        "colab": {
          "base_uri": "https://localhost:8080/",
          "height": 104
        },
        "outputId": "80f9c520-2216-4c6d-f29e-127e81cc6577"
      },
      "source": [
        "prs = np.random.normal(0, .2, 4)\n",
        "res = minimize(x_proj, prs, args=(X, y), options={'maxiter': 1000, 'disp': True})\n",
        "\n",
        "theta = res['x']"
      ],
      "execution_count": 86,
      "outputs": [
        {
          "output_type": "stream",
          "text": [
            "Optimization terminated successfully.\n",
            "         Current function value: 11.363969\n",
            "         Iterations: 6\n",
            "         Function evaluations: 66\n",
            "         Gradient evaluations: 11\n"
          ],
          "name": "stdout"
        }
      ]
    },
    {
      "cell_type": "markdown",
      "metadata": {
        "id": "-s5M2rkaKdYT",
        "colab_type": "text"
      },
      "source": [
        "# convert back to the original basis to get nkt filter weights.\n",
        "The filter and offset are returned in a dictionary"
      ]
    },
    {
      "cell_type": "code",
      "metadata": {
        "id": "jXcT47F4KqJY",
        "colab_type": "code",
        "colab": {}
      },
      "source": [
        "d = dm.get_regressor_from_output(theta[1:])\n",
        "\n",
        "dc = theta[0]\n",
        "k = d['stim'][1]"
      ],
      "execution_count": 87,
      "outputs": []
    },
    {
      "cell_type": "markdown",
      "metadata": {
        "id": "wXzztjh4KsYX",
        "colab_type": "text"
      },
      "source": [
        "# Plot the stimulus filter"
      ]
    },
    {
      "cell_type": "code",
      "metadata": {
        "id": "iTxFPfi0LAq0",
        "colab_type": "code",
        "colab": {
          "base_uri": "https://localhost:8080/",
          "height": 296
        },
        "outputId": "ab3a2e6c-bc75-4a07-863b-f8f8c7495334"
      },
      "source": [
        "fig, ax1 = plt.subplots(1, 1)\n",
        "nmaplt.plot_spike_filter(ax1, k, dspec.dt, linewidth=6)\n",
        "ax1.set_xlim(-2, 0.1)"
      ],
      "execution_count": 88,
      "outputs": [
        {
          "output_type": "execute_result",
          "data": {
            "text/plain": [
              "(-2.0, 0.1)"
            ]
          },
          "metadata": {
            "tags": []
          },
          "execution_count": 88
        },
        {
          "output_type": "display_data",
          "data": {
            "image/png": "[encoded data removed]",
            "text/plain": [
              "<Figure size 432x288 with 1 Axes>"
            ]
          },
          "metadata": {
            "tags": [],
            "needs_background": "light"
          }
        }
      ]
    }
  ]
}