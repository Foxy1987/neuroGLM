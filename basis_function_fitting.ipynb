{
  "nbformat": 4,
  "nbformat_minor": 0,
  "metadata": {
    "colab": {
      "name": "basis_function_fitting.ipynb",
      "provenance": [],
      "authorship_tag": "ABX9TyNh6WUR6Qf9f/RjGZu6mKs/",
      "include_colab_link": true
    },
    "kernelspec": {
      "name": "python3",
      "display_name": "Python 3"
    }
  },
  "cells": [
    {
      "cell_type": "markdown",
      "metadata": {
        "id": "view-in-github",
        "colab_type": "text"
      },
      "source": [
        "<a href=\"https://colab.research.google.com/github/Foxy1987/neuroGLM/blob/master/basis_function_fitting.ipynb\" target=\"_parent\"><img src=\"https://colab.research.google.com/assets/colab-badge.svg\" alt=\"Open In Colab\"/></a>"
      ]
    },
    {
      "cell_type": "markdown",
      "metadata": {
        "id": "lVfs0qEA_9pB",
        "colab_type": "text"
      },
      "source": [
        "# Fitting stimulus temporal filters to vector space spanned by raised cosines\n",
        "__Content creator:__ David Fox\n"
      ]
    },
    {
      "cell_type": "markdown",
      "metadata": {
        "id": "aMZDNnNeATWU",
        "colab_type": "text"
      },
      "source": [
        "This tutorial will explain how to import trial-based experimental data, and build appropriate features spaces to do regression analysis. The ultimate output of the regression is a set of weights on the coefficients that define a stimulus filter.\n",
        "\n",
        "Here we will find filter weights by fitting filters to a low-dimensional space spanned by raised cosines. \n",
        "The time axis is scaled logarithmically so that the cosines are more narrow near time lag 0 but is more smooth at longer time scales. \n",
        "\n",
        "$$\n",
        "B_i(t) = \\frac{(\\cos(\\log[t + \\Psi] + \\phi_i) + 1}{2}\n",
        "$$\n",
        "\n",
        "for $t$ such that $\\log(t + \\Psi) \\in [\\phi_i - \\pi, \\phi_i + \\pi]$ and 0 elsewhere ( so each basis vector looks like a single raised bump). The \"bumps\" are normalized so that they sum to 1 and orthogonalized. The resulting basis can represent fine temporal structure near 0 time lag and longer smooth structure at longer time lags. \n",
        "\n",
        "By fitting to a basis of raised cosines, we can simplify the fitting procedure. We ensure that the function is convex and can thus use scipy.optimize.minimize to compute estimates for the filter weights. In addition, by fitting to a basis functions, we can denoise by only specifying the temporal structure we care about.\n"
      ]
    },
    {
      "cell_type": "markdown",
      "metadata": {
        "id": "Vhz6_OZTFKsq",
        "colab_type": "text"
      },
      "source": [
        "# Import package and libraries"
      ]
    },
    {
      "cell_type": "code",
      "metadata": {
        "id": "3bSnghfbFj-G",
        "colab_type": "code",
        "colab": {
          "base_uri": "https://localhost:8080/",
          "height": 156
        },
        "outputId": "bbef4d2b-61d4-427c-c62d-aebbfc4fd15a"
      },
      "source": [
        "#@title Clone the github repository \n",
        "!git clone https://github.com/Foxy1987/neuroGLM\n",
        "%cd neuroGLM"
      ],
      "execution_count": 1,
      "outputs": [
        {
          "output_type": "stream",
          "text": [
            "Cloning into 'neuroGLM'...\n",
            "remote: Enumerating objects: 209, done.\u001b[K\n",
            "remote: Counting objects: 100% (209/209), done.\u001b[K\n",
            "remote: Compressing objects: 100% (156/156), done.\u001b[K\n",
            "remote: Total 209 (delta 105), reused 125 (delta 50), pack-reused 0\u001b[K\n",
            "Receiving objects: 100% (209/209), 253.69 KiB | 476.00 KiB/s, done.\n",
            "Resolving deltas: 100% (105/105), done.\n",
            "/content/neuroGLM\n"
          ],
          "name": "stdout"
        }
      ]
    },
    {
      "cell_type": "code",
      "metadata": {
        "id": "9II2LpqPFXWJ",
        "colab_type": "code",
        "colab": {}
      },
      "source": [
        "#@title add package to google colab\n",
        "import sys, os\n",
        "sys.path.append(os.getcwd())"
      ],
      "execution_count": 4,
      "outputs": []
    },
    {
      "cell_type": "code",
      "metadata": {
        "id": "Vfw6EAm1Fx_v",
        "colab_type": "code",
        "colab": {}
      },
      "source": [
        "#@title import modules\n",
        "import utils.read as io\n",
        "import numpy as np\n",
        "from matplotlib import pyplot as plt\n",
        "from glmtools.make_xdsgn import Experiment, DesignSpec\n",
        "from basisFactory.bases import Basis, RaisedCosine\n",
        "from scipy.optimize import minimize\n",
        "from glmtools.fit import x_proj\n",
        "from utils import plot as nmaplt\n",
        "import pickle"
      ],
      "execution_count": 5,
      "outputs": []
    },
    {
      "cell_type": "markdown",
      "metadata": {
        "id": "u1Sn2qBWHKTH",
        "colab_type": "text"
      },
      "source": [
        "# Read in stimulus and behavior structure\n",
        "The read function takes as arguments a matlab structure, whose fields are:\n",
        "the behavior parameters you extracted from your experiment and \n",
        "\n",
        "1.   behavior parameters you extracted from your experiment\n",
        "2.   Stimulus\n",
        "\n",
        "each field is an $M$X$N$ where $M$ is the number of time points and $N$ is the number of trials.\n",
        "\n",
        "\n"
      ]
    },
    {
      "cell_type": "code",
      "metadata": {
        "id": "3HnVTXTbIWiF",
        "colab_type": "code",
        "colab": {}
      },
      "source": [
        "behavior_par = \"vmoves\""
      ],
      "execution_count": 6,
      "outputs": []
    },
    {
      "cell_type": "code",
      "metadata": {
        "id": "cqTgMNXhINzi",
        "colab_type": "code",
        "colab": {
          "base_uri": "https://localhost:8080/",
          "height": 432
        },
        "outputId": "a0911331-61f0-4540-bd32-3f465338e5d2"
      },
      "source": [
        "stim, response = io.load_behavior('../datasets/behavior/control_behavior.mat', 30., 55., behavior_par)"
      ],
      "execution_count": 7,
      "outputs": [
        {
          "output_type": "error",
          "ename": "FileNotFoundError",
          "evalue": "ignored",
          "traceback": [
            "\u001b[0;31m---------------------------------------------------------------------------\u001b[0m",
            "\u001b[0;31mFileNotFoundError\u001b[0m                         Traceback (most recent call last)",
            "\u001b[0;32m/usr/local/lib/python3.6/dist-packages/scipy/io/matlab/mio.py\u001b[0m in \u001b[0;36m_open_file\u001b[0;34m(file_like, appendmat, mode)\u001b[0m\n\u001b[1;32m     38\u001b[0m     \u001b[0;32mtry\u001b[0m\u001b[0;34m:\u001b[0m\u001b[0;34m\u001b[0m\u001b[0;34m\u001b[0m\u001b[0m\n\u001b[0;32m---> 39\u001b[0;31m         \u001b[0;32mreturn\u001b[0m \u001b[0mopen\u001b[0m\u001b[0;34m(\u001b[0m\u001b[0mfile_like\u001b[0m\u001b[0;34m,\u001b[0m \u001b[0mmode\u001b[0m\u001b[0;34m)\u001b[0m\u001b[0;34m,\u001b[0m \u001b[0;32mTrue\u001b[0m\u001b[0;34m\u001b[0m\u001b[0;34m\u001b[0m\u001b[0m\n\u001b[0m\u001b[1;32m     40\u001b[0m     \u001b[0;32mexcept\u001b[0m \u001b[0mIOError\u001b[0m\u001b[0;34m:\u001b[0m\u001b[0;34m\u001b[0m\u001b[0;34m\u001b[0m\u001b[0m\n",
            "\u001b[0;31mFileNotFoundError\u001b[0m: [Errno 2] No such file or directory: '../datasets/behavior/control_behavior.mat'",
            "\nDuring handling of the above exception, another exception occurred:\n",
            "\u001b[0;31mFileNotFoundError\u001b[0m                         Traceback (most recent call last)",
            "\u001b[0;32m<ipython-input-7-af99387eefff>\u001b[0m in \u001b[0;36m<module>\u001b[0;34m()\u001b[0m\n\u001b[0;32m----> 1\u001b[0;31m \u001b[0mstim\u001b[0m\u001b[0;34m,\u001b[0m \u001b[0mresponse\u001b[0m \u001b[0;34m=\u001b[0m \u001b[0mio\u001b[0m\u001b[0;34m.\u001b[0m\u001b[0mload_behavior\u001b[0m\u001b[0;34m(\u001b[0m\u001b[0;34m'../datasets/behavior/control_behavior.mat'\u001b[0m\u001b[0;34m,\u001b[0m \u001b[0;36m30.\u001b[0m\u001b[0;34m,\u001b[0m \u001b[0;36m55.\u001b[0m\u001b[0;34m,\u001b[0m \u001b[0mbehavior_par\u001b[0m\u001b[0;34m)\u001b[0m\u001b[0;34m\u001b[0m\u001b[0;34m\u001b[0m\u001b[0m\n\u001b[0m",
            "\u001b[0;32m/content/neuroGLM/utils/read.py\u001b[0m in \u001b[0;36mload_behavior\u001b[0;34m(data, start, finish, param)\u001b[0m\n\u001b[1;32m     31\u001b[0m \u001b[0;32mdef\u001b[0m \u001b[0mload_behavior\u001b[0m\u001b[0;34m(\u001b[0m\u001b[0mdata\u001b[0m\u001b[0;34m,\u001b[0m \u001b[0mstart\u001b[0m\u001b[0;34m,\u001b[0m \u001b[0mfinish\u001b[0m\u001b[0;34m,\u001b[0m \u001b[0mparam\u001b[0m\u001b[0;34m)\u001b[0m\u001b[0;34m:\u001b[0m\u001b[0;34m\u001b[0m\u001b[0;34m\u001b[0m\u001b[0m\n\u001b[1;32m     32\u001b[0m         \u001b[0mFs\u001b[0m \u001b[0;34m=\u001b[0m \u001b[0;36m50\u001b[0m                                                                                 \u001b[0;31m# sample rate (Hz)\u001b[0m\u001b[0;34m\u001b[0m\u001b[0;34m\u001b[0m\u001b[0m\n\u001b[0;32m---> 33\u001b[0;31m         \u001b[0mdat\u001b[0m \u001b[0;34m=\u001b[0m \u001b[0mio\u001b[0m\u001b[0;34m.\u001b[0m\u001b[0mloadmat\u001b[0m\u001b[0;34m(\u001b[0m\u001b[0mdata\u001b[0m\u001b[0;34m)\u001b[0m\u001b[0;34m\u001b[0m\u001b[0;34m\u001b[0m\u001b[0m\n\u001b[0m\u001b[1;32m     34\u001b[0m         \u001b[0mdat_\u001b[0m \u001b[0;34m=\u001b[0m \u001b[0mdat\u001b[0m\u001b[0;34m[\u001b[0m\u001b[0;34m'flyData'\u001b[0m\u001b[0;34m]\u001b[0m\u001b[0;34m[\u001b[0m\u001b[0mparam\u001b[0m\u001b[0;34m]\u001b[0m\u001b[0;34m\u001b[0m\u001b[0;34m\u001b[0m\u001b[0m\n\u001b[1;32m     35\u001b[0m         \u001b[0mresponse\u001b[0m \u001b[0;34m=\u001b[0m \u001b[0mdat_\u001b[0m\u001b[0;34m[\u001b[0m\u001b[0;36m0\u001b[0m\u001b[0;34m]\u001b[0m\u001b[0;34m[\u001b[0m\u001b[0;36m0\u001b[0m\u001b[0;34m]\u001b[0m\u001b[0;34m\u001b[0m\u001b[0;34m\u001b[0m\u001b[0m\n",
            "\u001b[0;32m/usr/local/lib/python3.6/dist-packages/scipy/io/matlab/mio.py\u001b[0m in \u001b[0;36mloadmat\u001b[0;34m(file_name, mdict, appendmat, **kwargs)\u001b[0m\n\u001b[1;32m    214\u001b[0m     \"\"\"\n\u001b[1;32m    215\u001b[0m     \u001b[0mvariable_names\u001b[0m \u001b[0;34m=\u001b[0m \u001b[0mkwargs\u001b[0m\u001b[0;34m.\u001b[0m\u001b[0mpop\u001b[0m\u001b[0;34m(\u001b[0m\u001b[0;34m'variable_names'\u001b[0m\u001b[0;34m,\u001b[0m \u001b[0;32mNone\u001b[0m\u001b[0;34m)\u001b[0m\u001b[0;34m\u001b[0m\u001b[0;34m\u001b[0m\u001b[0m\n\u001b[0;32m--> 216\u001b[0;31m     \u001b[0;32mwith\u001b[0m \u001b[0m_open_file_context\u001b[0m\u001b[0;34m(\u001b[0m\u001b[0mfile_name\u001b[0m\u001b[0;34m,\u001b[0m \u001b[0mappendmat\u001b[0m\u001b[0;34m)\u001b[0m \u001b[0;32mas\u001b[0m \u001b[0mf\u001b[0m\u001b[0;34m:\u001b[0m\u001b[0;34m\u001b[0m\u001b[0;34m\u001b[0m\u001b[0m\n\u001b[0m\u001b[1;32m    217\u001b[0m         \u001b[0mMR\u001b[0m\u001b[0;34m,\u001b[0m \u001b[0m_\u001b[0m \u001b[0;34m=\u001b[0m \u001b[0mmat_reader_factory\u001b[0m\u001b[0;34m(\u001b[0m\u001b[0mf\u001b[0m\u001b[0;34m,\u001b[0m \u001b[0;34m**\u001b[0m\u001b[0mkwargs\u001b[0m\u001b[0;34m)\u001b[0m\u001b[0;34m\u001b[0m\u001b[0;34m\u001b[0m\u001b[0m\n\u001b[1;32m    218\u001b[0m         \u001b[0mmatfile_dict\u001b[0m \u001b[0;34m=\u001b[0m \u001b[0mMR\u001b[0m\u001b[0;34m.\u001b[0m\u001b[0mget_variables\u001b[0m\u001b[0;34m(\u001b[0m\u001b[0mvariable_names\u001b[0m\u001b[0;34m)\u001b[0m\u001b[0;34m\u001b[0m\u001b[0;34m\u001b[0m\u001b[0m\n",
            "\u001b[0;32m/usr/lib/python3.6/contextlib.py\u001b[0m in \u001b[0;36m__enter__\u001b[0;34m(self)\u001b[0m\n\u001b[1;32m     79\u001b[0m     \u001b[0;32mdef\u001b[0m \u001b[0m__enter__\u001b[0m\u001b[0;34m(\u001b[0m\u001b[0mself\u001b[0m\u001b[0;34m)\u001b[0m\u001b[0;34m:\u001b[0m\u001b[0;34m\u001b[0m\u001b[0;34m\u001b[0m\u001b[0m\n\u001b[1;32m     80\u001b[0m         \u001b[0;32mtry\u001b[0m\u001b[0;34m:\u001b[0m\u001b[0;34m\u001b[0m\u001b[0;34m\u001b[0m\u001b[0m\n\u001b[0;32m---> 81\u001b[0;31m             \u001b[0;32mreturn\u001b[0m \u001b[0mnext\u001b[0m\u001b[0;34m(\u001b[0m\u001b[0mself\u001b[0m\u001b[0;34m.\u001b[0m\u001b[0mgen\u001b[0m\u001b[0;34m)\u001b[0m\u001b[0;34m\u001b[0m\u001b[0;34m\u001b[0m\u001b[0m\n\u001b[0m\u001b[1;32m     82\u001b[0m         \u001b[0;32mexcept\u001b[0m \u001b[0mStopIteration\u001b[0m\u001b[0;34m:\u001b[0m\u001b[0;34m\u001b[0m\u001b[0;34m\u001b[0m\u001b[0m\n\u001b[1;32m     83\u001b[0m             \u001b[0;32mraise\u001b[0m \u001b[0mRuntimeError\u001b[0m\u001b[0;34m(\u001b[0m\u001b[0;34m\"generator didn't yield\"\u001b[0m\u001b[0;34m)\u001b[0m \u001b[0;32mfrom\u001b[0m \u001b[0;32mNone\u001b[0m\u001b[0;34m\u001b[0m\u001b[0;34m\u001b[0m\u001b[0m\n",
            "\u001b[0;32m/usr/local/lib/python3.6/dist-packages/scipy/io/matlab/mio.py\u001b[0m in \u001b[0;36m_open_file_context\u001b[0;34m(file_like, appendmat, mode)\u001b[0m\n\u001b[1;32m     17\u001b[0m \u001b[0;34m@\u001b[0m\u001b[0mcontextmanager\u001b[0m\u001b[0;34m\u001b[0m\u001b[0;34m\u001b[0m\u001b[0m\n\u001b[1;32m     18\u001b[0m \u001b[0;32mdef\u001b[0m \u001b[0m_open_file_context\u001b[0m\u001b[0;34m(\u001b[0m\u001b[0mfile_like\u001b[0m\u001b[0;34m,\u001b[0m \u001b[0mappendmat\u001b[0m\u001b[0;34m,\u001b[0m \u001b[0mmode\u001b[0m\u001b[0;34m=\u001b[0m\u001b[0;34m'rb'\u001b[0m\u001b[0;34m)\u001b[0m\u001b[0;34m:\u001b[0m\u001b[0;34m\u001b[0m\u001b[0;34m\u001b[0m\u001b[0m\n\u001b[0;32m---> 19\u001b[0;31m     \u001b[0mf\u001b[0m\u001b[0;34m,\u001b[0m \u001b[0mopened\u001b[0m \u001b[0;34m=\u001b[0m \u001b[0m_open_file\u001b[0m\u001b[0;34m(\u001b[0m\u001b[0mfile_like\u001b[0m\u001b[0;34m,\u001b[0m \u001b[0mappendmat\u001b[0m\u001b[0;34m,\u001b[0m \u001b[0mmode\u001b[0m\u001b[0;34m)\u001b[0m\u001b[0;34m\u001b[0m\u001b[0;34m\u001b[0m\u001b[0m\n\u001b[0m\u001b[1;32m     20\u001b[0m     \u001b[0;32myield\u001b[0m \u001b[0mf\u001b[0m\u001b[0;34m\u001b[0m\u001b[0;34m\u001b[0m\u001b[0m\n\u001b[1;32m     21\u001b[0m     \u001b[0;32mif\u001b[0m \u001b[0mopened\u001b[0m\u001b[0;34m:\u001b[0m\u001b[0;34m\u001b[0m\u001b[0;34m\u001b[0m\u001b[0m\n",
            "\u001b[0;32m/usr/local/lib/python3.6/dist-packages/scipy/io/matlab/mio.py\u001b[0m in \u001b[0;36m_open_file\u001b[0;34m(file_like, appendmat, mode)\u001b[0m\n\u001b[1;32m     43\u001b[0m             \u001b[0;32mif\u001b[0m \u001b[0mappendmat\u001b[0m \u001b[0;32mand\u001b[0m \u001b[0;32mnot\u001b[0m \u001b[0mfile_like\u001b[0m\u001b[0;34m.\u001b[0m\u001b[0mendswith\u001b[0m\u001b[0;34m(\u001b[0m\u001b[0;34m'.mat'\u001b[0m\u001b[0;34m)\u001b[0m\u001b[0;34m:\u001b[0m\u001b[0;34m\u001b[0m\u001b[0;34m\u001b[0m\u001b[0m\n\u001b[1;32m     44\u001b[0m                 \u001b[0mfile_like\u001b[0m \u001b[0;34m+=\u001b[0m \u001b[0;34m'.mat'\u001b[0m\u001b[0;34m\u001b[0m\u001b[0;34m\u001b[0m\u001b[0m\n\u001b[0;32m---> 45\u001b[0;31m             \u001b[0;32mreturn\u001b[0m \u001b[0mopen\u001b[0m\u001b[0;34m(\u001b[0m\u001b[0mfile_like\u001b[0m\u001b[0;34m,\u001b[0m \u001b[0mmode\u001b[0m\u001b[0;34m)\u001b[0m\u001b[0;34m,\u001b[0m \u001b[0;32mTrue\u001b[0m\u001b[0;34m\u001b[0m\u001b[0;34m\u001b[0m\u001b[0m\n\u001b[0m\u001b[1;32m     46\u001b[0m         \u001b[0;32melse\u001b[0m\u001b[0;34m:\u001b[0m\u001b[0;34m\u001b[0m\u001b[0;34m\u001b[0m\u001b[0m\n\u001b[1;32m     47\u001b[0m             \u001b[0;32mraise\u001b[0m \u001b[0mIOError\u001b[0m\u001b[0;34m(\u001b[0m\u001b[0;34m'Reader needs file name or open file-like object'\u001b[0m\u001b[0;34m)\u001b[0m\u001b[0;34m\u001b[0m\u001b[0;34m\u001b[0m\u001b[0m\n",
            "\u001b[0;31mFileNotFoundError\u001b[0m: [Errno 2] No such file or directory: '../datasets/behavior/control_behavior.mat'"
          ]
        }
      ]
    },
    {
      "cell_type": "markdown",
      "metadata": {
        "id": "pU0fVu7xIjLF",
        "colab_type": "text"
      },
      "source": [
        "# Create an experiment object \n",
        "Now we will make an experiment object to hold response variable and to register the types of regressors in the experiment"
      ]
    },
    {
      "cell_type": "code",
      "metadata": {
        "id": "WTwvXd28IlCX",
        "colab_type": "code",
        "colab": {}
      },
      "source": [
        "expt = Experiment(0.02, 85, stim=stim, response=response)\n",
        "\n",
        "# register continuous regressor\n",
        "expt.registerContinuous('stim')"
      ],
      "execution_count": null,
      "outputs": []
    },
    {
      "cell_type": "markdown",
      "metadata": {
        "id": "P0WPI5axIxW2",
        "colab_type": "text"
      },
      "source": [
        "# Create a design specification object\n",
        "This object holds all the information about how to construct the design matrix for each regressor. The function compile_design_matrix_from_trial_indices() stacks design matrices for a given regressor and for each trial on top of one another. "
      ]
    },
    {
      "cell_type": "code",
      "metadata": {
        "id": "y1UY0G5OI9zx",
        "colab_type": "code",
        "colab": {}
      },
      "source": [
        "trial_inds = list(range(response.shape[1]))\n",
        "dspec = DesignSpec(expt, trial_inds)"
      ],
      "execution_count": null,
      "outputs": []
    },
    {
      "cell_type": "markdown",
      "metadata": {
        "id": "P65Gh9qMJbe6",
        "colab_type": "text"
      },
      "source": [
        "# make a set of raised-cosine basis functions"
      ]
    },
    {
      "cell_type": "code",
      "metadata": {
        "id": "lESOrlEyJc5m",
        "colab_type": "code",
        "colab": {}
      },
      "source": [
        "# make a set of basis functions\n",
        "Fs = 50\n",
        "nkt = 2*Fs\n",
        "cos_basis = RaisedCosine(100, 3, 1, 'stim')\n",
        "cos_basis.makeNonlinearRaisedCosStim(expt.dtSp, [5, nkt/2-10], 1, nkt)\n",
        "\n",
        "# register the regressor with the basis \n",
        "dspec.addRegressorContinuous(basis=cos_basis)"
      ],
      "execution_count": null,
      "outputs": []
    },
    {
      "cell_type": "markdown",
      "metadata": {
        "id": "h6zIXE1rJwhF",
        "colab_type": "text"
      },
      "source": [
        "# Build the design matrix and view the contents\n",
        "Now we use the information about each regressor included in the experiment and the number of trials to construct a design matrix"
      ]
    },
    {
      "cell_type": "code",
      "metadata": {
        "id": "axiroNi0JyGn",
        "colab_type": "code",
        "colab": {}
      },
      "source": [
        "dm, X, y = dspec.compileDesignMatrixFromTrialIndices()"
      ],
      "execution_count": null,
      "outputs": []
    },
    {
      "cell_type": "markdown",
      "metadata": {
        "id": "kU411__nJ7lr",
        "colab_type": "text"
      },
      "source": [
        "# find weights in the new basis using scipy.optimize.minimize"
      ]
    },
    {
      "cell_type": "code",
      "metadata": {
        "id": "RPwJGyfbKO7Q",
        "colab_type": "code",
        "colab": {}
      },
      "source": [
        "prs = np.random.normal(0, .2, 4)\n",
        "res = minimize(x_proj, prs, args=(X, y), options={'maxiter': 1000, 'disp': True})\n",
        "\n",
        "theta = res['x']"
      ],
      "execution_count": null,
      "outputs": []
    },
    {
      "cell_type": "markdown",
      "metadata": {
        "id": "-s5M2rkaKdYT",
        "colab_type": "text"
      },
      "source": [
        "# convert back to the original basis to get nkt filter weights.\n",
        "The filter and offset are returned in a dictionary"
      ]
    },
    {
      "cell_type": "code",
      "metadata": {
        "id": "jXcT47F4KqJY",
        "colab_type": "code",
        "colab": {}
      },
      "source": [
        "d = dm.get_regressor_from_output(theta[1:])\n",
        "\n",
        "dc = theta[0]\n",
        "k = d['stim'][1]"
      ],
      "execution_count": null,
      "outputs": []
    },
    {
      "cell_type": "markdown",
      "metadata": {
        "id": "wXzztjh4KsYX",
        "colab_type": "text"
      },
      "source": [
        "# Plot the stimulus filter"
      ]
    },
    {
      "cell_type": "code",
      "metadata": {
        "id": "iTxFPfi0LAq0",
        "colab_type": "code",
        "colab": {}
      },
      "source": [
        "fig, ax1 = plt.subplots(1, 1)\n",
        "nmaplt.plot_spike_filter(ax1, k, dspec.dt, linewidth=6)\n",
        "ax1.set_xlim(-2, 0.1)"
      ],
      "execution_count": null,
      "outputs": []
    }
  ]
}