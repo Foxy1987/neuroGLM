{
  "nbformat": 4,
  "nbformat_minor": 0,
  "metadata": {
    "colab": {
      "name": "Untitled5.ipynb",
      "provenance": [],
      "authorship_tag": "ABX9TyM2EduW12IQjbfLP/1yYxSW",
      "include_colab_link": true
    },
    "kernelspec": {
      "name": "python3",
      "display_name": "Python 3"
    }
  },
  "cells": [
    {
      "cell_type": "markdown",
      "metadata": {
        "id": "view-in-github",
        "colab_type": "text"
      },
      "source": [
        "<a href=\"https://colab.research.google.com/github/davidfox87/neuro_encoding_models/blob/master/ankita_fit_temporal_filters.ipynb\" target=\"_parent\"><img src=\"https://colab.research.google.com/assets/colab-badge.svg\" alt=\"Open In Colab\"/></a>"
      ]
    },
    {
      "cell_type": "code",
      "metadata": {
        "colab": {
          "base_uri": "https://localhost:8080/"
        },
        "id": "a-EHaAb7MS7u",
        "outputId": "16eff04b-59b1-41b2-c70a-7760ea4ad03f"
      },
      "source": [
        "#@title Clone the github repository \n",
        "!git clone https://github.com/davidfox87/neuro_encoding_models"
      ],
      "execution_count": 1,
      "outputs": [
        {
          "output_type": "stream",
          "text": [
            "Cloning into 'neuro_encoding_models'...\n",
            "remote: Enumerating objects: 124, done.\u001b[K\n",
            "remote: Counting objects: 100% (124/124), done.\u001b[K\n",
            "remote: Compressing objects: 100% (101/101), done.\u001b[K\n",
            "remote: Total 722 (delta 66), reused 49 (delta 23), pack-reused 598\u001b[K\n",
            "Receiving objects: 100% (722/722), 89.31 MiB | 18.24 MiB/s, done.\n",
            "Resolving deltas: 100% (412/412), done.\n"
          ],
          "name": "stdout"
        }
      ]
    },
    {
      "cell_type": "code",
      "metadata": {
        "colab": {
          "base_uri": "https://localhost:8080/"
        },
        "id": "juVWlq_WMXMe",
        "outputId": "aa228451-8843-401c-c225-2aba7dcd6faf"
      },
      "source": [
        "from google.colab import drive\n",
        "drive.mount('/content/drive', force_remount=True)"
      ],
      "execution_count": 2,
      "outputs": [
        {
          "output_type": "stream",
          "text": [
            "Mounted at /content/drive\n"
          ],
          "name": "stdout"
        }
      ]
    },
    {
      "cell_type": "code",
      "metadata": {
        "colab": {
          "base_uri": "https://localhost:8080/"
        },
        "id": "Ik2eLpiNMt73",
        "outputId": "2b8825b2-e1a3-4331-a2c0-facc8402e735"
      },
      "source": [
        "% ls -la /content/drive/MyDrive/temporal_filter_data_files_for_colab/"
      ],
      "execution_count": 3,
      "outputs": [
        {
          "output_type": "stream",
          "text": [
            "total 313944\n",
            "-rw------- 1 root root  8160737 Nov 18 15:09 angvturns_out.pkl\n",
            "-rw------- 1 root root  1249862 Nov 19 22:10 average_neural_data.pkl\n",
            "-rw------- 1 root root   880220 Nov 18 16:04 basis.pkl\n",
            "-rw------- 1 root root   336456 Feb  2 13:52 ConstantAir_glom1.mat\n",
            "-rw------- 1 root root 74060867 Nov 29 12:14 control_stim_to_behavior_forward.mat\n",
            "-rw------- 1 root root 70166534 Nov 17 17:22 control_stim_to_behavior.mat\n",
            "-rw------- 1 root root   513822 Nov 29 13:23 controlupwindfilter_forward.out\n",
            "-rw------- 1 root root   518601 Nov 29 11:31 controlupwindfilter.out\n",
            "-rw------- 1 root root     5042 Nov 29 14:32 controlupwind_gain_forward.out\n",
            "-rw------- 1 root root     5088 Nov 29 14:15 controlupwind_gain_reverse.out\n",
            "-rw------- 1 root root   186532 Nov 29 13:14 forwardChirpStim.txt\n",
            "-rw------- 1 root root  1606613 Dec  1 08:57 master_filter_summary.eps\n",
            "drwx------ 2 root root     4096 Nov 18 16:39 \u001b[0m\u001b[01;34mORN\u001b[0m/\n",
            "drwx------ 2 root root     4096 Nov 18 16:36 \u001b[01;34mPN\u001b[0m/\n",
            "-rw------- 1 root root   992724 Nov 18 15:48 pn1_out.pkl\n",
            "-rw------- 1 root root   998799 Nov 18 17:06 PNpn1_out.pkl\n",
            "-rw------- 1 root root 68438638 Nov 29 13:25 u13_stim_to_behavior_forward.mat\n",
            "-rw------- 1 root root 75974730 Nov 28 17:36 u13_stim_to_behavior.mat\n",
            "-rw------- 1 root root   514446 Nov 29 13:32 unc13upwindfilter_forward.out\n",
            "-rw------- 1 root root   519712 Nov 29 11:20 unc13upwindfilter.out\n",
            "-rw------- 1 root root     5054 Nov 29 14:39 unc13upwind_gain_forward.out\n",
            "-rw------- 1 root root     5058 Nov 29 14:21 unc13upwind_gain_reverse.out\n",
            "-rw------- 1 root root        0 Nov 29 11:07 unc13upwind.out\n",
            "-rw------- 1 root root  8160737 Nov 18 15:06 vmoves_out.pkl\n",
            "drwx------ 2 root root     4096 Jan 14 17:29 \u001b[01;34mvm_spiking\u001b[0m/\n",
            "-rw------- 1 root root  8160737 Nov 18 15:39 vymoves_out.pkl\n"
          ],
          "name": "stdout"
        }
      ]
    },
    {
      "cell_type": "code",
      "metadata": {
        "colab": {
          "base_uri": "https://localhost:8080/"
        },
        "id": "odLfFq0VMv_G",
        "outputId": "a6503822-bf8a-4b5a-cfad-e13b0b3799ea"
      },
      "source": [
        "%cd neuro_encoding_models/"
      ],
      "execution_count": 3,
      "outputs": [
        {
          "output_type": "stream",
          "text": [
            "/content/neuro_encoding_models\n"
          ],
          "name": "stdout"
        }
      ]
    },
    {
      "cell_type": "code",
      "metadata": {
        "id": "15KtStCWM0HR"
      },
      "source": [
        "#@title add package to google colab\n",
        "import sys, os\n",
        "sys.path.append(os.getcwd())"
      ],
      "execution_count": 4,
      "outputs": []
    },
    {
      "cell_type": "code",
      "metadata": {
        "id": "Pl5mg1mGM4Nq"
      },
      "source": [
        "#@title import modules\n",
        "import pandas as pd\n",
        "import numpy as np\n",
        "from sklearn.base import BaseEstimator, TransformerMixin\n",
        "from sklearn.pipeline import Pipeline\n",
        "from sklearn.model_selection import GridSearchCV, KFold\n",
        "from sklearn.linear_model import Ridge\n",
        "import utils.read as io\n",
        "from sklearn.preprocessing import StandardScaler, MinMaxScaler\n",
        "from sklearn.model_selection import train_test_split\n",
        "from matplotlib import pyplot as plt\n",
        "from glmtools.fit import fit_nlin_hist1d\n",
        "import pickle\n",
        "from utils.read import load_ankita_data\n",
        "from sklearn.model_selection import KFold\n",
        "from glmtools.make_xdsgn import Experiment, DesignSpec\n",
        "from sklearn.metrics import r2_score, mean_squared_error\n",
        "from joblib import Parallel, delayed"
      ],
      "execution_count": 12,
      "outputs": []
    },
    {
      "cell_type": "code",
      "metadata": {
        "id": "CULYS9JcM-K9"
      },
      "source": [
        "#@title helper functions\n",
        "\n",
        "def make_dspec(stim, response, dt, inds):\n",
        "\t# make an Experiment object\n",
        "\texpt = Experiment(dt, len(stim)*dt, stim=stim, response=response)\n",
        "\n",
        "\t# register continuous regressor\n",
        "\texpt.registerContinuous('stim')\n",
        "\n",
        "\t# initialize design spec with number of entries\n",
        "\treturn DesignSpec(expt, trialinds=inds)"
      ],
      "execution_count": 6,
      "outputs": []
    },
    {
      "cell_type": "code",
      "metadata": {
        "id": "MO2hN7wJNBau"
      },
      "source": [
        "dt = 1. / 25.\n",
        "filepath = '/content/drive/MyDrive/temporal_filter_data_files_for_colab/ConstantAir_glom1.mat'\n",
        "stims, responses = load_ankita_data(filepath)\n",
        "\n",
        "inds = np.arange(stims.shape[1])\n",
        "train_inds, test_inds = train_test_split(inds, test_size=0.2, random_state=42)\n",
        "X_train, X_test = stims[:, train_inds], stims[:, test_inds]\n",
        "y_train, y_test = responses[:, train_inds], responses[:, test_inds]\n",
        "\n"
      ],
      "execution_count": 7,
      "outputs": []
    },
    {
      "cell_type": "code",
      "metadata": {
        "id": "Ee-PK77gOK8O"
      },
      "source": [
        "ntrials = X_train.shape[1]\n",
        "inds = np.arange(ntrials)  # trial indices used to make splits\n",
        "np.random.shuffle(inds)"
      ],
      "execution_count": 8,
      "outputs": []
    },
    {
      "cell_type": "code",
      "metadata": {
        "id": "udqA5DgWaLSj"
      },
      "source": [
        "\tfolds_xtrain = []\n",
        "\tfolds_xtest = []\n",
        "\tfolds_ytrain = []\n",
        "\tfolds_ytest = []\n",
        "\n",
        "\tkf = KFold(n_splits=5)\n",
        "\tkf.get_n_splits(inds)\n",
        "\n",
        "\tscaler = StandardScaler()\n",
        "\tscaler2 = MinMaxScaler([0, 1])\n",
        "\tX_train = scaler.fit_transform(X_train)\n",
        "\ty_train = scaler2.fit_transform(y_train)"
      ],
      "execution_count": 9,
      "outputs": []
    },
    {
      "cell_type": "code",
      "metadata": {
        "colab": {
          "base_uri": "https://localhost:8080/"
        },
        "id": "ijD-gsyfOMy_",
        "outputId": "e934518b-25bd-4ba4-ece7-4785c76a7e81"
      },
      "source": [
        "\tfor train_index, val_index in kf.split(inds):\n",
        "\t\t# each fold will consist of a design matrix that will have concatenated trials for that fold\n",
        "\t\t# e.g. the first fold will train on trials 1, 2, 3 and test on 0\n",
        "\t\t# the second fold will train on 0, 2, 3 and test on 1\n",
        "\t\tprint(\"TRAIN:\", train_index, \"VALIDATION:\", val_index)\n",
        "\n",
        "\t\ttrain_dspec = make_dspec(X_train[:, train_index], y_train[:, train_index], dt, np.arange(len(train_index)))\n",
        "\t\ttrain_dspec.addRegressorContinuous()\n",
        "\n",
        "\t\t# use the inds to take a slice of sps and make a test design matrix\n",
        "\t\ttest_dspec = make_dspec(X_train[:, val_index], y_train[:, val_index], dt, np.arange(len(val_index)))\n",
        "\t\ttest_dspec.addRegressorContinuous()\n",
        "\n",
        "\t\tdm, Xtrain, ytrain = train_dspec.compileDesignMatrixFromTrialIndices(bias=1)\n",
        "\t\tdm, Xtest, ytest = test_dspec.compileDesignMatrixFromTrialIndices(bias=1)\n",
        "\n",
        "\t\t# Xtrain = scaler.fit_transform(Xtrain)\n",
        "\t\t# Xtest = scaler.transform(Xtest)\t\t# transform Xtest to the same scale as Xtrain\n",
        "\n",
        "\t\tfolds_xtrain.append(Xtrain)\n",
        "\t\tfolds_xtest.append(Xtest)\n",
        "\t\tfolds_ytrain.append(ytrain)\n",
        "\t\tfolds_ytest.append(ytest)\n",
        "\n",
        "\n",
        "\tprint('done making folds')\n"
      ],
      "execution_count": 10,
      "outputs": [
        {
          "output_type": "stream",
          "text": [
            "100%|██████████| 34/34 [00:00<00:00, 1950.09it/s]\n",
            "100%|██████████| 9/9 [00:00<00:00, 1483.95it/s]\n",
            "100%|██████████| 34/34 [00:00<00:00, 1939.51it/s]\n",
            "100%|██████████| 9/9 [00:00<00:00, 1467.74it/s]\n",
            "100%|██████████| 34/34 [00:00<00:00, 2136.04it/s]\n",
            "100%|██████████| 9/9 [00:00<00:00, 1455.85it/s]\n",
            "  0%|          | 0/35 [00:00<?, ?it/s]"
          ],
          "name": "stderr"
        },
        {
          "output_type": "stream",
          "text": [
            "TRAIN: [ 9 10 11 12 13 14 15 16 17 18 19 20 21 22 23 24 25 26 27 28 29 30 31 32\n",
            " 33 34 35 36 37 38 39 40 41 42] VALIDATION: [0 1 2 3 4 5 6 7 8]\n",
            "TRAIN: [ 0  1  2  3  4  5  6  7  8 18 19 20 21 22 23 24 25 26 27 28 29 30 31 32\n",
            " 33 34 35 36 37 38 39 40 41 42] VALIDATION: [ 9 10 11 12 13 14 15 16 17]\n",
            "TRAIN: [ 0  1  2  3  4  5  6  7  8  9 10 11 12 13 14 15 16 17 27 28 29 30 31 32\n",
            " 33 34 35 36 37 38 39 40 41 42] VALIDATION: [18 19 20 21 22 23 24 25 26]\n",
            "TRAIN: [ 0  1  2  3  4  5  6  7  8  9 10 11 12 13 14 15 16 17 18 19 20 21 22 23\n",
            " 24 25 26 35 36 37 38 39 40 41 42] VALIDATION: [27 28 29 30 31 32 33 34]\n"
          ],
          "name": "stdout"
        },
        {
          "output_type": "stream",
          "text": [
            "100%|██████████| 35/35 [00:00<00:00, 1883.87it/s]\n",
            "100%|██████████| 8/8 [00:00<00:00, 1486.35it/s]\n",
            "100%|██████████| 35/35 [00:00<00:00, 2074.07it/s]\n",
            "100%|██████████| 8/8 [00:00<00:00, 1401.31it/s]"
          ],
          "name": "stderr"
        },
        {
          "output_type": "stream",
          "text": [
            "TRAIN: [ 0  1  2  3  4  5  6  7  8  9 10 11 12 13 14 15 16 17 18 19 20 21 22 23\n",
            " 24 25 26 27 28 29 30 31 32 33 34] VALIDATION: [35 36 37 38 39 40 41 42]\n",
            "done making folds\n"
          ],
          "name": "stdout"
        },
        {
          "output_type": "stream",
          "text": [
            "\n"
          ],
          "name": "stderr"
        }
      ]
    },
    {
      "cell_type": "code",
      "metadata": {
        "id": "N5WntWr2aubL"
      },
      "source": [
        ""
      ],
      "execution_count": null,
      "outputs": []
    },
    {
      "cell_type": "code",
      "metadata": {
        "colab": {
          "base_uri": "https://localhost:8080/"
        },
        "id": "MC0M1DfYavF-",
        "outputId": "2a75eea7-6a51-4931-e5c5-6843f5edcb3c"
      },
      "source": [
        "def ridgefitCV(train, test, parameter):\n",
        "  msetest_fold = 0\n",
        "  for train, test in zip(train, test):\n",
        "    Xtrain, ytrain = train\n",
        "    Xtest, ytest = test\n",
        "\n",
        "    model = Ridge(alpha=parameter).fit(Xtrain, ytrain)\n",
        "\n",
        "    msetest_fold += mean_squared_error(ytest, model.predict(Xtest))\n",
        "\n",
        "  # take the average mse across folds for this alpha\n",
        "  return msetest_fold / len(train)\n",
        "\n",
        "\n",
        "lamvals = np.logspace(-5, 5, num=20, base=2)\n",
        "\n",
        "\n",
        "def _run_search(evaluate_candidates):\n",
        "  \"\"\"Search all candidates in param_grid\"\"\"\n",
        "  evaluate_candidates(lamvals)\n",
        "\n",
        "\n",
        "parallel = Parallel(n_jobs=10, verbose=10)\n",
        "\n",
        "all_out = []\n",
        "\n",
        "with parallel:\n",
        "\n",
        "  def evaluate_candidates(candidate_params):\n",
        "    out = parallel(delayed(ridgefitCV)(train=zip(folds_xtrain, folds_ytrain),\n",
        "                        test=zip(folds_xtest, folds_ytest),\n",
        "                        parameter=param)\n",
        "              for param in candidate_params)\n",
        "\n",
        "    all_out.extend(out)\n",
        "\n",
        "_run_search(evaluate_candidates)\n",
        "\n",
        "print(all_out)"
      ],
      "execution_count": 13,
      "outputs": [
        {
          "output_type": "stream",
          "text": [
            "[Parallel(n_jobs=10)]: Using backend LokyBackend with 10 concurrent workers.\n",
            "[Parallel(n_jobs=10)]: Done   4 out of  20 | elapsed:    4.2s remaining:   16.7s\n",
            "[Parallel(n_jobs=10)]: Done   7 out of  20 | elapsed:    5.6s remaining:   10.3s\n",
            "[Parallel(n_jobs=10)]: Done  10 out of  20 | elapsed:    7.2s remaining:    7.2s\n",
            "[Parallel(n_jobs=10)]: Done  13 out of  20 | elapsed:    7.4s remaining:    4.0s\n",
            "[Parallel(n_jobs=10)]: Done  16 out of  20 | elapsed:    7.7s remaining:    1.9s\n"
          ],
          "name": "stderr"
        },
        {
          "output_type": "stream",
          "text": [
            "[0.0338252669612299, 0.03382526607074102, 0.03382526478964673, 0.03382526294751703, 0.03382526030053169, 0.033825256500922524, 0.03382525105482322, 0.03382524326537992, 0.03382523215860943, 0.033825216392416625, 0.03382519415727159, 0.03382516309591045, 0.0338251203093142, 0.03382506259423246, 0.03382498719836005, 0.0338248936100273, 0.03382478723121022, 0.03382468617997673, 0.033824632836706656, 0.0338247120291669]\n"
          ],
          "name": "stdout"
        },
        {
          "output_type": "stream",
          "text": [
            "[Parallel(n_jobs=10)]: Done  20 out of  20 | elapsed:    8.0s finished\n"
          ],
          "name": "stderr"
        }
      ]
    },
    {
      "cell_type": "code",
      "metadata": {
        "id": "bZ6P1lXAa-7E"
      },
      "source": [
        ""
      ],
      "execution_count": null,
      "outputs": []
    },
    {
      "cell_type": "code",
      "metadata": {
        "colab": {
          "base_uri": "https://localhost:8080/",
          "height": 311
        },
        "id": "iL1XGih2a_Dm",
        "outputId": "66a58fd2-1f11-4aec-e9fd-2db1100d6955"
      },
      "source": [
        "\n",
        "imin = np.argmin(all_out)\n",
        "print(\"best ridge param is {}\".format(lamvals[imin]))\n",
        "plt.plot(all_out)\n",
        "\n",
        "\n",
        "lamvals[imin]"
      ],
      "execution_count": 14,
      "outputs": [
        {
          "output_type": "stream",
          "text": [
            "best ridge param is 22.218418281834488\n"
          ],
          "name": "stdout"
        },
        {
          "output_type": "execute_result",
          "data": {
            "text/plain": [
              "22.218418281834488"
            ]
          },
          "metadata": {
            "tags": []
          },
          "execution_count": 14
        },
        {
          "output_type": "display_data",
          "data": {
            "image/png": "[encoded data removed]",
            "text/plain": [
              "<Figure size 432x288 with 1 Axes>"
            ]
          },
          "metadata": {
            "tags": [],
            "needs_background": "light"
          }
        }
      ]
    },
    {
      "cell_type": "code",
      "metadata": {
        "id": "vA_PZsvXbFMJ"
      },
      "source": [
        ""
      ],
      "execution_count": null,
      "outputs": []
    },
    {
      "cell_type": "code",
      "metadata": {
        "colab": {
          "base_uri": "https://localhost:8080/",
          "height": 300
        },
        "id": "d7MuIa7IbFPO",
        "outputId": "81ee138d-0095-41c9-dca2-dc2ff99f215f"
      },
      "source": [
        "# run ridge with the best alpha on the average response\n",
        "\n",
        "dspec = make_dspec(X_train, y_train, dt, np.arange(X_train.shape[1]))\n",
        "dspec.addRegressorContinuous()\n",
        "dm, X, y = train_dspec.compileDesignMatrixFromTrialIndices(bias=1)\n",
        "\n",
        "model = Ridge(alpha=lamvals[imin]).fit(X, y)\n",
        "\n",
        "w = model.coef_\n",
        "plt.plot(w)\n"
      ],
      "execution_count": 15,
      "outputs": [
        {
          "output_type": "stream",
          "text": [
            "100%|██████████| 35/35 [00:00<00:00, 1786.68it/s]\n"
          ],
          "name": "stderr"
        },
        {
          "output_type": "execute_result",
          "data": {
            "text/plain": [
              "[<matplotlib.lines.Line2D at 0x7fd2a05d9250>]"
            ]
          },
          "metadata": {
            "tags": []
          },
          "execution_count": 15
        },
        {
          "output_type": "display_data",
          "data": {
            "image/png": "[encoded data removed]",
            "text/plain": [
              "<Figure size 432x288 with 1 Axes>"
            ]
          },
          "metadata": {
            "tags": [],
            "needs_background": "light"
          }
        }
      ]
    },
    {
      "cell_type": "code",
      "metadata": {
        "id": "ejAZI7Y4bUmp"
      },
      "source": [
        ""
      ],
      "execution_count": null,
      "outputs": []
    },
    {
      "cell_type": "code",
      "metadata": {
        "colab": {
          "base_uri": "https://localhost:8080/",
          "height": 609
        },
        "id": "MyfriE3AbUqA",
        "outputId": "4e7cf254-7ba1-4b49-939a-11a255f3a622"
      },
      "source": [
        "\n",
        "d = dm.get_regressor_from_output(w)\n",
        "\n",
        "# # convert back to the original basis to get nkt filter weights.\n",
        "# # Parameters are returned in a dict\n",
        "dc = w[0]\n",
        "k = d['stim'][1]\n",
        "kt = d['stim'][0] * dt\n",
        "\n",
        "\n",
        "X_test = scaler.fit_transform(X_test)\n",
        "y_test = scaler2.fit_transform(y_test)\n",
        "\n",
        "idx = 10\n",
        "input = X_test[:, idx]\n",
        "output = y_test[:, idx]\n",
        "xx, fnlin, rawfilteroutput = fit_nlin_hist1d(input, output, k, dt, 20)\n",
        "\n",
        "Fs = 25\n",
        "t = np.arange(0, len(X_test[:, idx])) / Fs\n",
        "plt.figure(figsize=[20, 10])\n",
        "plt.plot(t, output, 'k', linewidth=2)\n",
        "plt.plot(t, fnlin(rawfilteroutput), 'c', linewidth=2)"
      ],
      "execution_count": 17,
      "outputs": [
        {
          "output_type": "execute_result",
          "data": {
            "text/plain": [
              "[<matplotlib.lines.Line2D at 0x7fd29ba38c10>]"
            ]
          },
          "metadata": {
            "tags": []
          },
          "execution_count": 17
        },
        {
          "output_type": "display_data",
          "data": {
            "image/png": "[encoded data removed]",
            "text/plain": [
              "<Figure size 1440x720 with 1 Axes>"
            ]
          },
          "metadata": {
            "tags": [],
            "needs_background": "light"
          }
        }
      ]
    }
  ]
}